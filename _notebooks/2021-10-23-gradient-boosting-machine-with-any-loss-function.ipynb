{
 "cells": [
  {
   "cell_type": "markdown",
   "metadata": {},
   "source": [
    "# How to Implement a Gradient Boosting Machine that Works with Any Loss Function\n",
    "\n",
    "> Implement Freedman's original gradient boosting algorithm and train models with any loss function.\n",
    "\n",
    "- toc: false\n",
    "- badges: true\n",
    "- comments: true\n",
    "- categories: [gradient boosting]\n",
    "- hide: false\n",
    "- image: images/freedman_waterfall.jpg\n"
   ]
  },
  {
   "cell_type": "markdown",
   "metadata": {},
   "source": [
    "![](nb_images/freedman_waterfall.jpg \"Cold water cascades over the rocks in Erwin, Tennessee.\")"
   ]
  },
  {
   "cell_type": "markdown",
   "metadata": {},
   "source": [
    "Well I've been alluding to this capability for several posts now, so it's time we get down to business and look at how Freedman's original GBM treated custom loss functions. This will help us complete our understanding of the original GBM algorithm, and it will help us begin to appreciate why, in practical situations, we will almost always be better off using variants like XGBoost or LightGBM, especially when we want to use custom losses. We'll see more on these state-of-the-art boosting algos in future posts."
   ]
  },
  {
   "cell_type": "markdown",
   "metadata": {},
   "source": [
    "## Freedman's GBM Algorithm \n",
    "In a previous post I outlined a general algorithm for gradient boosting with an arbitrary loss function, but it was presented to serve our intuition and was therefore a little bit hand-wavy. \n",
    "This time let's get specific enough to implement it in code. \n",
    "We'll use Freedman's original gradient boost algorithm from page 5 of [the paper](https://statweb.stanford.edu/~jhf/ftp/trebst.pdf) (translated into the notation we've been using so far). \n",
    "\n",
    "Like last time, we have training data $(\\mathbf{y}, \\mathbf{X})$ where $\\mathbf{y}$ is a length-$n$ vector of target values, and $\\mathbf{X}$ is an $n \\times p$ matrix with $n$ observations of $p$ features. We also have a differentiable loss function $L(\\mathbf{y}, \\mathbf{\\hat{y}}) = \\sum_{i=1}^n l(y_i, \\hat{y}_i)$, a \"learning rate\" hyperparameter $\\eta$, and a fixed number of model iterations $M$.\n",
    "\n",
    "**Algorithm** *gradient_boost*$(\\mathbf{X},\\mathbf{y},L,\\eta, M)$ returns: model $F_M$\n",
    "\n",
    "1. Let base model\n",
    "$F_0(\\mathbf{x}) = c$, where $c = \\text{argmin}_{c} \\sum_{i=1}^n l(y_i, c)$\n",
    "\n",
    "1. `for` $m$ = $0$ to $M-1$:\n",
    "\n",
    "1. \n",
    "&nbsp;&nbsp;&nbsp;&nbsp;\n",
    "Let \"pseudo-residual\" vector \n",
    "$\\mathbf{r}_m = -\\nabla_{\\mathbf{\\hat{y}}_m} L(\\mathbf{y},\\mathbf{\\hat{y}}_m)$\n",
    "\n",
    "1. \n",
    "&nbsp;&nbsp;&nbsp;&nbsp;\n",
    "Train decision tree regressor $h_m(\\mathbf{X})$ to predict $\\mathbf{r}_m$ (minimizing squared error)\n",
    "\n",
    "1. \n",
    "&nbsp;&nbsp;&nbsp;&nbsp;\n",
    "`foreach` terminal leaf node $t \\in h_m$:\n",
    "\n",
    "1. \n",
    "&nbsp;&nbsp;&nbsp;&nbsp;\n",
    "&nbsp;&nbsp;&nbsp;&nbsp;\n",
    "Let $v = \\text{argmin}_v \\sum_{i \\in t} l(y_i, F_m(\\mathbf{x}_i) + v)$\n",
    "\n",
    "1. \n",
    "&nbsp;&nbsp;&nbsp;&nbsp;\n",
    "&nbsp;&nbsp;&nbsp;&nbsp;\n",
    "Set terminal leaf node $t$ to predict value $v$\n",
    "\n",
    "1. \n",
    "&nbsp;&nbsp;&nbsp;&nbsp;\n",
    "$F_{m+1}(\\mathbf{X}) = F_{m}(\\mathbf{X}) + \\eta h_m(\\mathbf{X})$\n",
    "\n",
    "1. Return composite  model $F_M$\n",
    "\n",
    "\n",
    "By now, most of this is already familiar to us. \n",
    "We begin by setting the base model $F_0$ equal to the constant prediction value that minimizes the loss over all examples in the training dataset (line 1).\n",
    "Then we begin the boosting iterations (line 2), each time computing the negative gradients of the loss with respect to the current model predictions (known as the pseudo residuals) (line 3).\n",
    "We then fit our next decision tree regressor to predict the pseudo residuals (line 4). \n",
    "\n",
    "Then we encounter something new on lines 5-7.\n",
    "When we fit a vanilla decision tree regressor to predict pseudo residuals, we're using mean squared error as the loss function to train the tree.\n",
    "As you might imagine, this works well when the global loss function is also squared error.\n",
    "But if we want to use a global loss other than squared error, there is an additional trick we can use to further increase the composite model's accuracy.\n",
    "The idea is to continue using squared error to train each decision tree, keeping its structure and split conditions but altering the predicted value in each leaf to help minimize the global loss function.\n",
    "Instead of using the mean target value as the prediction for each node (as we would do when minimizing squared error), we use a numerical optimization method like line search to choose the constant value for that leaf that leads to the best overall loss. This is the same thing we did in line 1 of the algorithm to set the base prediction, but here we choose the optimal prediction for each terminal node of the newly trained decision tree."
   ]
  },
  {
   "cell_type": "markdown",
   "metadata": {},
   "source": [
    "## Implementation\n",
    "I did some half-assed searching on the interweb for an implementation of GBM that allows the user to provide a custom loss function, and you know what? I couldn't find anything. If you find another implementation, post in the comments so we can learn from it too.\n",
    "\n",
    "Since we need to rip open the decision trees and modify the values predicted by their terminal nodes, we'll want to brush up on the scikit-learn [decision tree structure](https://scikit-learn.org/stable/auto_examples/tree/plot_unveil_tree_structure.html) before we get going. \n",
    "You can see explanations of all the necessary decision tree hacks in this [notebook](https://github.com/mcb00/blog/blob/master/supplemental/freedman-gbm-implementation.ipynb)."
   ]
  },
  {
   "cell_type": "code",
   "execution_count": 56,
   "metadata": {},
   "outputs": [],
   "source": [
    "import numpy as np\n",
    "from sklearn.tree import DecisionTreeRegressor \n",
    "from scipy.optimize import minimize\n",
    "\n",
    "class GradientBoostingMachine():\n",
    "    '''Gradient Boosting Machine supporting any user-supplied loss function.\n",
    "    \n",
    "    Parameters\n",
    "    ----------\n",
    "    n_trees : int\n",
    "        number of boosting rounds\n",
    "        \n",
    "    learning_rate : float\n",
    "        learning rate hyperparameter\n",
    "        \n",
    "    max_depth : int\n",
    "        maximum tree depth\n",
    "    '''\n",
    "    \n",
    "    def __init__(self, n_trees, learning_rate=0.1, max_depth=1):\n",
    "        self.n_trees=n_trees; \n",
    "        self.learning_rate=learning_rate\n",
    "        self.max_depth=max_depth;\n",
    "    \n",
    "    def fit(self, X, y, objective):\n",
    "        '''Fit the GBM using the specified loss function.\n",
    "        \n",
    "        Parameters\n",
    "        ----------\n",
    "        X : ndarray of size (number observations, number features)\n",
    "            design matrix\n",
    "            \n",
    "        y : ndarray of size (number observations,)\n",
    "            target values\n",
    "            \n",
    "        objective : loss function class instance\n",
    "            Class specifying the loss function for training.\n",
    "            Should implement two methods:\n",
    "                loss(labels: ndarray, predictions: ndarray) -> float\n",
    "                negative_gradient(labels: ndarray, predictions: ndarray) -> ndarray\n",
    "        '''\n",
    "        \n",
    "        self.trees = []\n",
    "        self.base_prediction = self._get_optimal_base_value(y, objective.loss)\n",
    "        current_predictions = self.base_prediction * np.ones(shape=y.shape)\n",
    "        for _ in range(self.n_trees):\n",
    "            pseudo_residuals = objective.negative_gradient(y, current_predictions)\n",
    "            tree = DecisionTreeRegressor(max_depth=self.max_depth)\n",
    "            tree.fit(X, pseudo_residuals)\n",
    "            self._update_terminal_nodes(tree, X, y, current_predictions, objective.loss)\n",
    "            current_predictions += self.learning_rate * tree.predict(X)\n",
    "            self.trees.append(tree)\n",
    "     \n",
    "    def _get_optimal_base_value(self, y, loss):\n",
    "        '''Find the optimal initial prediction for the base model.'''\n",
    "        fun = lambda c: loss(y, c)\n",
    "        c0 = y.mean()\n",
    "        return minimize(fun=fun, x0=c0).x[0]\n",
    "        \n",
    "    def _update_terminal_nodes(self, tree, X, y, current_predictions, loss):\n",
    "        '''Update the tree's predictions according to the loss function.'''\n",
    "        # terminal node id's\n",
    "        leaf_nodes = np.nonzero(tree.tree_.children_left == -1)[0]\n",
    "        # compute leaf for each sample in ``X``.\n",
    "        leaf_node_for_each_sample = tree.apply(X)\n",
    "        for leaf in leaf_nodes:\n",
    "            samples_in_this_leaf = np.where(leaf_node_for_each_sample == leaf)[0]\n",
    "            y_in_leaf = y.take(samples_in_this_leaf, axis=0)\n",
    "            preds_in_leaf = current_predictions.take(samples_in_this_leaf, axis=0)\n",
    "            val = self._get_optimal_leaf_value(y_in_leaf, \n",
    "                                               preds_in_leaf,\n",
    "                                               loss)\n",
    "            tree.tree_.value[leaf, 0, 0] = val\n",
    "            \n",
    "    def _get_optimal_leaf_value(self, y, current_predictions, loss):\n",
    "        '''Find the optimal prediction value for a given leaf.'''\n",
    "        fun = lambda c: loss(y, current_predictions + c)\n",
    "        c0 = y.mean()\n",
    "        return minimize(fun=fun, x0=c0).x[0]\n",
    "          \n",
    "    def predict(self, X):\n",
    "        '''Generate predictions for the given input data.'''\n",
    "        return (self.base_prediction \n",
    "                + self.learning_rate \n",
    "                * np.sum([tree.predict(X) for tree in self.trees], axis=0))"
   ]
  },
  {
   "cell_type": "markdown",
   "metadata": {},
   "source": [
    "In terms of design, we implement a class for the GBM with scikit-like `fit` and `predict` methods. Notice in the above implementation that the `fit` method is only 10 lines long, and corresponds very closely to Freedman's algorithm from above.  Most of the complexity comes from the helper methods for updating the leaf values according to the specified loss function.\n",
    "\n",
    "When the user wants to call the `fit` method, they'll need to supply the loss function they want to use for boosting. We'll make the user implement their loss (a.k.a. objective) function as a class with two methods: (1) a `loss` method taking the labels and the predictions and returning the loss score and (2) a `negative_gradient` method taking the labels and the predictions and returning an array of negative gradients.\n",
    "\n",
    "Let's try it out with a few different loss functions!\n"
   ]
  },
  {
   "cell_type": "markdown",
   "metadata": {},
   "source": [
    "### Mean Squared Error\n",
    "MSE loss produces estimates of the mean target value conditioned on the feature values. Here's the implementation."
   ]
  },
  {
   "cell_type": "code",
   "execution_count": 57,
   "metadata": {},
   "outputs": [],
   "source": [
    "#hide\n",
    "import matplotlib.pyplot as plt \n",
    "%matplotlib inline"
   ]
  },
  {
   "cell_type": "code",
   "execution_count": 58,
   "metadata": {},
   "outputs": [],
   "source": [
    "#hide\n",
    "rng = np.random.default_rng()\n",
    "x = np.linspace(0, 10, 500)\n",
    "y = np.where(x < 5, x, 5) + rng.normal(0, 0.4, size=x.shape)\n",
    "x = x.reshape(-1,1)"
   ]
  },
  {
   "cell_type": "code",
   "execution_count": 59,
   "metadata": {},
   "outputs": [],
   "source": [
    "class SquaredErrorLoss():\n",
    "    '''Mean Squared Error Loss'''\n",
    "    \n",
    "    def loss(self, y, preds):\n",
    "        return np.mean((y - preds)**2)\n",
    "    \n",
    "    def negative_gradient(self, y, preds):\n",
    "        return y - preds"
   ]
  },
  {
   "cell_type": "code",
   "execution_count": 60,
   "metadata": {
    "scrolled": true
   },
   "outputs": [],
   "source": [
    "gbm = GradientBoostingMachine(n_trees=10,\n",
    "                              learning_rate=0.5)\n",
    "gbm.fit(x, y, SquaredErrorLoss())\n",
    "pred = gbm.predict(x)"
   ]
  },
  {
   "cell_type": "code",
   "execution_count": 61,
   "metadata": {
    "scrolled": false
   },
   "outputs": [
    {
     "data": {
      "image/png": "[encoded data removed]",
      "text/plain": [
       "<Figure size 432x288 with 1 Axes>"
      ]
     },
     "metadata": {
      "needs_background": "light"
     },
     "output_type": "display_data"
    }
   ],
   "source": [
    "#hide_input\n",
    "# fig, ax = plt.subplot()\n",
    "plt.plot(x.ravel(), y, 'o', label='data')\n",
    "plt.plot(x.ravel(), pred, '-k', label='model')\n",
    "plt.legend()\n",
    "plt.xlabel('x')\n",
    "plt.ylabel('y')\n",
    "plt.title('model predicting mean or y | x');"
   ]
  },
  {
   "cell_type": "code",
   "execution_count": null,
   "metadata": {},
   "outputs": [],
   "source": []
  },
  {
   "cell_type": "markdown",
   "metadata": {},
   "source": [
    "### Mean Absolute Error\n",
    "MAE loss produces estimates of the median target value conditioned on the feature values. Here's the implementation."
   ]
  },
  {
   "cell_type": "code",
   "execution_count": 62,
   "metadata": {},
   "outputs": [],
   "source": [
    "#hide\n",
    "rng = np.random.default_rng()\n",
    "x = np.linspace(0, 10, 500)\n",
    "y = np.where(x < 5, x, 5) + rng.normal(0, 0.4, size=x.shape)\n",
    "x = x.reshape(-1,1)"
   ]
  },
  {
   "cell_type": "code",
   "execution_count": 63,
   "metadata": {},
   "outputs": [],
   "source": [
    "class AbsoluteErrorLoss():\n",
    "    '''Mean Absolute Error Loss'''\n",
    "    \n",
    "    def loss(self, y, preds):\n",
    "        return np.mean(np.abs(y - preds))\n",
    "    \n",
    "    def negative_gradient(self, y, preds):\n",
    "        return np.sign(y - preds)"
   ]
  },
  {
   "cell_type": "code",
   "execution_count": 64,
   "metadata": {},
   "outputs": [],
   "source": [
    "gbm = GradientBoostingMachine(n_trees=10,\n",
    "                              learning_rate=0.5)\n",
    "gbm.fit(x, y, AbsoluteErrorLoss())\n",
    "pred = gbm.predict(x)"
   ]
  },
  {
   "cell_type": "code",
   "execution_count": 65,
   "metadata": {
    "scrolled": false
   },
   "outputs": [
    {
     "data": {
      "image/png": "[encoded data removed]",
      "text/plain": [
       "<Figure size 432x288 with 1 Axes>"
      ]
     },
     "metadata": {
      "needs_background": "light"
     },
     "output_type": "display_data"
    }
   ],
   "source": [
    "#hide_input\n",
    "# fig, ax = plt.subplot()\n",
    "plt.plot(x.ravel(), y, 'o', label='data')\n",
    "plt.plot(x.ravel(), pred, '-k', label='model')\n",
    "plt.legend()\n",
    "plt.xlabel('x')\n",
    "plt.ylabel('y')\n",
    "plt.title('model predicting median of y | x');"
   ]
  },
  {
   "cell_type": "code",
   "execution_count": null,
   "metadata": {},
   "outputs": [],
   "source": []
  },
  {
   "cell_type": "markdown",
   "metadata": {},
   "source": [
    "### Quantile Loss\n",
    "Quantile loss yields estimates of a given quantile of the target variable conditioned on the features. Here's the implementation."
   ]
  },
  {
   "cell_type": "code",
   "execution_count": 66,
   "metadata": {},
   "outputs": [],
   "source": [
    "#hide\n",
    "rng = np.random.default_rng()\n",
    "x = np.linspace(0, 10, 500)\n",
    "# y = np.where(x < 5, x, 5) + rng.uniform(-2, 2, size=x.shape)\n",
    "y = np.where(x < 5, x, 5) + rng.normal(0, 1, size=x.shape)\n",
    "x = x.reshape(-1,1)"
   ]
  },
  {
   "cell_type": "code",
   "execution_count": 67,
   "metadata": {},
   "outputs": [],
   "source": [
    "class QuantileLoss():\n",
    "    '''Quantile Loss\n",
    "    \n",
    "    Parameters\n",
    "    ----------\n",
    "    alpha : float\n",
    "        quantile to be estimated, 0 < alpha < 1\n",
    "    '''\n",
    "    \n",
    "    def __init__(self, alpha):\n",
    "        if alpha < 0 or alpha >1:\n",
    "            raise ValueError('alpha must be between 0 and 1')\n",
    "        self.alpha = alpha\n",
    "        \n",
    "    def loss(self, y, preds):\n",
    "        e = y - preds\n",
    "        return np.mean(np.where(e > 0, self.alpha * e, (self.alpha - 1) * e))\n",
    "    \n",
    "    def negative_gradient(self, y, preds):\n",
    "        e = y - preds \n",
    "        return np.where(e > 0, self.alpha, self.alpha - 1)"
   ]
  },
  {
   "cell_type": "code",
   "execution_count": 68,
   "metadata": {},
   "outputs": [],
   "source": [
    "gbm = GradientBoostingMachine(n_trees=10,\n",
    "                              learning_rate=0.5)\n",
    "gbm.fit(x, y, QuantileLoss(alpha=0.9))\n",
    "pred = gbm.predict(x)"
   ]
  },
  {
   "cell_type": "code",
   "execution_count": 69,
   "metadata": {
    "scrolled": true
   },
   "outputs": [
    {
     "data": {
      "image/png": "[encoded data removed]",
      "text/plain": [
       "<Figure size 432x288 with 1 Axes>"
      ]
     },
     "metadata": {
      "needs_background": "light"
     },
     "output_type": "display_data"
    }
   ],
   "source": [
    "#hide_input\n",
    "plt.plot(x, y, 'o', label='data')\n",
    "plt.plot(x, pred, 'k-', label='model')\n",
    "plt.legend()\n",
    "plt.xlabel('x')\n",
    "plt.ylabel('y')\n",
    "plt.title('model predicting 0.9 quantile of y | x');"
   ]
  },
  {
   "cell_type": "code",
   "execution_count": null,
   "metadata": {},
   "outputs": [],
   "source": []
  },
  {
   "cell_type": "markdown",
   "metadata": {},
   "source": [
    "### Binary Cross Entropy\n",
    "All the previous losses were for regression problems. But we can also do classification, simply by using the right loss function. Here we'll implement binary cross entropy, a.k.a. binary deviance, sometimes abusively called log loss. One thing to remember is that, like logistic regression, our model is really predicting the log odds ratio, not the probability of the positive class. Thus I do an expit transformation before computing loss and the gradients and another one before plotting the predictions."
   ]
  },
  {
   "cell_type": "code",
   "execution_count": 70,
   "metadata": {},
   "outputs": [],
   "source": [
    "#hide\n",
    "rng = np.random.default_rng()\n",
    "x = np.linspace(-3, 3, 500)\n",
    "expit = lambda t: np.exp(t) / (1 + np.exp(t))\n",
    "p = expit(x)\n",
    "y = rng.binomial(1, p, size=p.shape)\n",
    "x = x.reshape(-1,1)"
   ]
  },
  {
   "cell_type": "code",
   "execution_count": 71,
   "metadata": {},
   "outputs": [],
   "source": [
    "class BinaryCrossEntropyLoss():\n",
    "    '''Binary Cross Entropy Loss\n",
    "    \n",
    "    Note that the predictions should be log odds ratios.\n",
    "    '''\n",
    "    \n",
    "    def __init__(self):\n",
    "        self.expit = lambda t: np.exp(t) / (1 + np.exp(t))\n",
    "    \n",
    "    def loss(self, y, preds):\n",
    "        p = self.expit(preds)\n",
    "        return -np.mean(y * np.log(p) + (1 - y) * np.log(1 - p))\n",
    "    \n",
    "    def negative_gradient(self, y, preds):\n",
    "        p = self.expit(preds)\n",
    "        return y / p - (1 - y) / (1 - p)"
   ]
  },
  {
   "cell_type": "code",
   "execution_count": 72,
   "metadata": {},
   "outputs": [],
   "source": [
    "gbm = GradientBoostingMachine(n_trees=10,\n",
    "                              learning_rate=0.5)\n",
    "gbm.fit(x, y, BinaryCrossEntropyLoss())\n",
    "expit = lambda t: np.exp(t) / (1 + np.exp(t))\n",
    "pred = expit(gbm.predict(x))"
   ]
  },
  {
   "cell_type": "code",
   "execution_count": 73,
   "metadata": {
    "scrolled": false
   },
   "outputs": [
    {
     "data": {
      "image/png": "[encoded data removed]",
      "text/plain": [
       "<Figure size 432x288 with 1 Axes>"
      ]
     },
     "metadata": {
      "needs_background": "light"
     },
     "output_type": "display_data"
    }
   ],
   "source": [
    "#hide_input\n",
    "plt.plot(x, y, 'o', label='data')\n",
    "plt.plot(x, p, '--r', label='P(y=1|x)')\n",
    "plt.plot(x, pred, '-k', label='model')\n",
    "plt.title('model predicting P(y = 1 | x)')\n",
    "plt.xlabel('x')\n",
    "plt.ylabel('y')\n",
    "plt.legend();"
   ]
  },
  {
   "cell_type": "code",
   "execution_count": null,
   "metadata": {},
   "outputs": [],
   "source": []
  },
  {
   "cell_type": "markdown",
   "metadata": {},
   "source": [
    "## Wrapping Up\n",
    "Alrighty, there it is, an implementation of the gradient boosting machine that can handle whatever loss function your heart desires (as long as you can write down its derivative). This one was really fun to implement since it solidifies a lot of the (sometimes mathy) ideas we've been covering about gradient boosting, and it removes any remaining doubt about the gradient boost algorithm from Freedman's classic paper. As I mentioned in the intro, in real life we will more or less always be better off using modern boosting frameworks like XGBoost, rather than the classic GBM. And as luck would have it, we'll dive into the details of these modern Newton descent boosting frameworks in future posts.\n"
   ]
  },
  {
   "cell_type": "code",
   "execution_count": null,
   "metadata": {},
   "outputs": [],
   "source": []
  }
 ],
 "metadata": {
  "kernelspec": {
   "display_name": "Python 3",
   "language": "python",
   "name": "python3"
  },
  "language_info": {
   "codemirror_mode": {
    "name": "ipython",
    "version": 3
   },
   "file_extension": ".py",
   "mimetype": "text/x-python",
   "name": "python",
   "nbconvert_exporter": "python",
   "pygments_lexer": "ipython3",
   "version": "3.8.3"
  }
 },
 "nbformat": 4,
 "nbformat_minor": 4
}
