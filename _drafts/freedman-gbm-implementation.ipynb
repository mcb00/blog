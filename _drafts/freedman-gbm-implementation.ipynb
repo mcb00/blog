{
 "cells": [
  {
   "cell_type": "markdown",
   "metadata": {},
   "source": [
    "# Implementation of Freedman's GBM with Custom Objective"
   ]
  },
  {
   "cell_type": "markdown",
   "metadata": {},
   "source": [
    "In this notebook, I figure out the hacks needed to implement Freedman's original GBM algorithm using sklearn DecisionTreeRegressor as the weak learner and scipy minimize as the argmin method.\n",
    "Basically we just need to be able to modify the tree predictions to predict the best prediction value according to the argmin of the loss function.\n",
    "This page on the [decision tree structure](https://scikit-learn.org/stable/auto_examples/tree/plot_unveil_tree_structure.html)  in the sklearn documentation is super helpful."
   ]
  },
  {
   "cell_type": "markdown",
   "metadata": {},
   "source": [
    "## sklearn decision trees"
   ]
  },
  {
   "cell_type": "code",
   "execution_count": 1,
   "metadata": {},
   "outputs": [],
   "source": [
    "import numpy as np\n",
    "import pandas as pd\n",
    "import matplotlib.pyplot as plt \n",
    "%matplotlib inline\n",
    "\n",
    "from sklearn.tree import DecisionTreeRegressor\n",
    "from sklearn.tree import plot_tree"
   ]
  },
  {
   "cell_type": "code",
   "execution_count": 2,
   "metadata": {},
   "outputs": [],
   "source": [
    "rng = np.random.default_rng()\n",
    "x = np.linspace(0, 10, 50)\n",
    "y = np.where(x < 5, x, 5) + rng.normal(0, 0.4, size=x.shape)\n",
    "x = x.reshape(-1,1)"
   ]
  },
  {
   "cell_type": "code",
   "execution_count": 3,
   "metadata": {},
   "outputs": [
    {
     "data": {
      "text/plain": [
       "[<matplotlib.lines.Line2D at 0x7faa15b60ac0>]"
      ]
     },
     "execution_count": 3,
     "metadata": {},
     "output_type": "execute_result"
    },
    {
     "data": {
      "image/png": "[encoded data removed]",
      "text/plain": [
       "<Figure size 432x288 with 1 Axes>"
      ]
     },
     "metadata": {
      "needs_background": "light"
     },
     "output_type": "display_data"
    }
   ],
   "source": [
    "plt.plot(x, y, 'o')"
   ]
  },
  {
   "cell_type": "code",
   "execution_count": 20,
   "metadata": {},
   "outputs": [],
   "source": [
    "reg = DecisionTreeRegressor(max_depth=2)\n",
    "reg.fit(x, y)\n",
    "y_hat = reg.predict(x)"
   ]
  },
  {
   "cell_type": "code",
   "execution_count": 21,
   "metadata": {},
   "outputs": [
    {
     "data": {
      "text/html": [
       "<div>\n",
       "<style scoped>\n",
       "    .dataframe tbody tr th:only-of-type {\n",
       "        vertical-align: middle;\n",
       "    }\n",
       "\n",
       "    .dataframe tbody tr th {\n",
       "        vertical-align: top;\n",
       "    }\n",
       "\n",
       "    .dataframe thead th {\n",
       "        text-align: right;\n",
       "    }\n",
       "</style>\n",
       "<table border=\"1\" class=\"dataframe\">\n",
       "  <thead>\n",
       "    <tr style=\"text-align: right;\">\n",
       "      <th></th>\n",
       "      <th>children_left</th>\n",
       "      <th>children_right</th>\n",
       "      <th>feature</th>\n",
       "      <th>threshold</th>\n",
       "      <th>n_node_samples</th>\n",
       "      <th>impurity</th>\n",
       "    </tr>\n",
       "  </thead>\n",
       "  <tbody>\n",
       "    <tr>\n",
       "      <th>0</th>\n",
       "      <td>1</td>\n",
       "      <td>4</td>\n",
       "      <td>0</td>\n",
       "      <td>2.755102</td>\n",
       "      <td>50</td>\n",
       "      <td>3.273577</td>\n",
       "    </tr>\n",
       "    <tr>\n",
       "      <th>1</th>\n",
       "      <td>2</td>\n",
       "      <td>3</td>\n",
       "      <td>0</td>\n",
       "      <td>1.122449</td>\n",
       "      <td>14</td>\n",
       "      <td>1.133342</td>\n",
       "    </tr>\n",
       "    <tr>\n",
       "      <th>2</th>\n",
       "      <td>-1</td>\n",
       "      <td>-1</td>\n",
       "      <td>-2</td>\n",
       "      <td>-2.000000</td>\n",
       "      <td>6</td>\n",
       "      <td>0.236105</td>\n",
       "    </tr>\n",
       "    <tr>\n",
       "      <th>3</th>\n",
       "      <td>-1</td>\n",
       "      <td>-1</td>\n",
       "      <td>-2</td>\n",
       "      <td>-2.000000</td>\n",
       "      <td>8</td>\n",
       "      <td>0.332961</td>\n",
       "    </tr>\n",
       "    <tr>\n",
       "      <th>4</th>\n",
       "      <td>5</td>\n",
       "      <td>6</td>\n",
       "      <td>0</td>\n",
       "      <td>4.387755</td>\n",
       "      <td>36</td>\n",
       "      <td>0.438312</td>\n",
       "    </tr>\n",
       "    <tr>\n",
       "      <th>5</th>\n",
       "      <td>-1</td>\n",
       "      <td>-1</td>\n",
       "      <td>-2</td>\n",
       "      <td>-2.000000</td>\n",
       "      <td>8</td>\n",
       "      <td>0.168403</td>\n",
       "    </tr>\n",
       "    <tr>\n",
       "      <th>6</th>\n",
       "      <td>-1</td>\n",
       "      <td>-1</td>\n",
       "      <td>-2</td>\n",
       "      <td>-2.000000</td>\n",
       "      <td>28</td>\n",
       "      <td>0.098433</td>\n",
       "    </tr>\n",
       "  </tbody>\n",
       "</table>\n",
       "</div>"
      ],
      "text/plain": [
       "   children_left  children_right  feature  threshold  n_node_samples  impurity\n",
       "0              1               4        0   2.755102              50  3.273577\n",
       "1              2               3        0   1.122449              14  1.133342\n",
       "2             -1              -1       -2  -2.000000               6  0.236105\n",
       "3             -1              -1       -2  -2.000000               8  0.332961\n",
       "4              5               6        0   4.387755              36  0.438312\n",
       "5             -1              -1       -2  -2.000000               8  0.168403\n",
       "6             -1              -1       -2  -2.000000              28  0.098433"
      ]
     },
     "execution_count": 21,
     "metadata": {},
     "output_type": "execute_result"
    }
   ],
   "source": [
    "# parallel arrays that give info on the nodes\n",
    "pd.DataFrame({\n",
    "    'children_left': reg.tree_.children_left\n",
    "    , 'children_right': reg.tree_.children_right\n",
    "    , 'feature': reg.tree_.feature \n",
    "    , 'threshold': reg.tree_.threshold\n",
    "    , 'n_node_samples': reg.tree_.n_node_samples \n",
    "    , 'impurity': reg.tree_.impurity\n",
    "})"
   ]
  },
  {
   "cell_type": "markdown",
   "metadata": {},
   "source": [
    "The index corresponds to the nodes in the tree.\n",
    "`children_left` and `children_right` give the index of the left and right children of the given node. \n",
    "They are set to -1 on the terminal nodes.\n",
    "Looks like the tree is indexed in a depth-first order."
   ]
  },
  {
   "cell_type": "code",
   "execution_count": 22,
   "metadata": {
    "scrolled": true
   },
   "outputs": [
    {
     "data": {
      "image/png": "[encoded data removed]",
      "text/plain": [
       "<Figure size 432x288 with 1 Axes>"
      ]
     },
     "metadata": {
      "needs_background": "light"
     },
     "output_type": "display_data"
    }
   ],
   "source": [
    "plot_tree(reg);"
   ]
  },
  {
   "cell_type": "code",
   "execution_count": 23,
   "metadata": {},
   "outputs": [
    {
     "data": {
      "text/plain": [
       "array([2, 2, 2, 2, 2, 2, 3, 3, 3, 3, 3, 3, 3, 3, 5, 5, 5, 5, 5, 5, 5, 5,\n",
       "       6, 6, 6, 6, 6, 6, 6, 6, 6, 6, 6, 6, 6, 6, 6, 6, 6, 6, 6, 6, 6, 6,\n",
       "       6, 6, 6, 6, 6, 6])"
      ]
     },
     "execution_count": 23,
     "metadata": {},
     "output_type": "execute_result"
    }
   ],
   "source": [
    "# find the terminal nodes that each observation lands in.\n",
    "reg.apply(x)"
   ]
  },
  {
   "cell_type": "code",
   "execution_count": 24,
   "metadata": {},
   "outputs": [
    {
     "data": {
      "text/plain": [
       "array([2, 2, 2, 2, 2, 2, 3, 3, 3, 3, 3, 3, 3, 3, 5, 5, 5, 5, 5, 5, 5, 5,\n",
       "       6, 6, 6, 6, 6, 6, 6, 6, 6, 6, 6, 6, 6, 6, 6, 6, 6, 6, 6, 6, 6, 6,\n",
       "       6, 6, 6, 6, 6, 6])"
      ]
     },
     "execution_count": 24,
     "metadata": {},
     "output_type": "execute_result"
    }
   ],
   "source": [
    "# find the terminal nodes that each observation lands in.\n",
    "# it works on the tree_ object too\n",
    "reg.tree_.apply(x.astype(np.float32))"
   ]
  },
  {
   "cell_type": "code",
   "execution_count": 25,
   "metadata": {},
   "outputs": [
    {
     "data": {
      "text/plain": [
       "array([2, 3, 5, 6])"
      ]
     },
     "execution_count": 25,
     "metadata": {},
     "output_type": "execute_result"
    }
   ],
   "source": [
    "# terminal node id's\n",
    "np.nonzero(reg.tree_.children_left == reg.tree_.children_right)[0]"
   ]
  },
  {
   "cell_type": "code",
   "execution_count": 26,
   "metadata": {},
   "outputs": [
    {
     "data": {
      "text/plain": [
       "array([[[3.73613894]],\n",
       "\n",
       "       [[1.13032631]],\n",
       "\n",
       "       [[0.07083543]],\n",
       "\n",
       "       [[1.92494447]],\n",
       "\n",
       "       [[4.74951052]],\n",
       "\n",
       "       [[3.68407405]],\n",
       "\n",
       "       [[5.05392094]]])"
      ]
     },
     "execution_count": 26,
     "metadata": {},
     "output_type": "execute_result"
    }
   ],
   "source": [
    "# the prediction values for each node (including non terminal ones)\n",
    "reg.tree_.value"
   ]
  },
  {
   "cell_type": "markdown",
   "metadata": {},
   "source": [
    "Not sure why `value` has two other dimensions."
   ]
  },
  {
   "cell_type": "code",
   "execution_count": 27,
   "metadata": {},
   "outputs": [
    {
     "data": {
      "text/plain": [
       "array([3.73613894, 1.13032631, 0.07083543, 1.92494447, 4.74951052,\n",
       "       3.68407405, 5.05392094])"
      ]
     },
     "execution_count": 27,
     "metadata": {},
     "output_type": "execute_result"
    }
   ],
   "source": [
    "# the prediction values for each node (including non terminal ones)\n",
    "reg.tree_.value[:, 0, 0]"
   ]
  },
  {
   "cell_type": "code",
   "execution_count": 28,
   "metadata": {},
   "outputs": [
    {
     "data": {
      "text/plain": [
       "array([0.07083543, 0.07083543, 0.07083543, 0.07083543, 0.07083543,\n",
       "       0.07083543, 1.92494447, 1.92494447, 1.92494447, 1.92494447,\n",
       "       1.92494447, 1.92494447, 1.92494447, 1.92494447, 3.68407405,\n",
       "       3.68407405, 3.68407405, 3.68407405, 3.68407405, 3.68407405,\n",
       "       3.68407405, 3.68407405, 5.05392094, 5.05392094, 5.05392094,\n",
       "       5.05392094, 5.05392094, 5.05392094, 5.05392094, 5.05392094,\n",
       "       5.05392094, 5.05392094, 5.05392094, 5.05392094, 5.05392094,\n",
       "       5.05392094, 5.05392094, 5.05392094, 5.05392094, 5.05392094,\n",
       "       5.05392094, 5.05392094, 5.05392094, 5.05392094, 5.05392094,\n",
       "       5.05392094, 5.05392094, 5.05392094, 5.05392094, 5.05392094])"
      ]
     },
     "execution_count": 28,
     "metadata": {},
     "output_type": "execute_result"
    }
   ],
   "source": [
    "# manually get predicted values for given feature vector observations\n",
    "reg.tree_.value[:, 0, 0][reg.apply(x)]"
   ]
  },
  {
   "cell_type": "code",
   "execution_count": 29,
   "metadata": {},
   "outputs": [],
   "source": [
    "# modifying one of the terminal node prediction values\n",
    "reg.tree_.value[3, 0, 0] = 0.0"
   ]
  },
  {
   "cell_type": "code",
   "execution_count": 30,
   "metadata": {
    "scrolled": true
   },
   "outputs": [
    {
     "data": {
      "text/plain": [
       "array([0.07083543, 0.07083543, 0.07083543, 0.07083543, 0.07083543,\n",
       "       0.07083543, 0.        , 0.        , 0.        , 0.        ,\n",
       "       0.        , 0.        , 0.        , 0.        , 3.68407405,\n",
       "       3.68407405, 3.68407405, 3.68407405, 3.68407405, 3.68407405,\n",
       "       3.68407405, 3.68407405, 5.05392094, 5.05392094, 5.05392094,\n",
       "       5.05392094, 5.05392094, 5.05392094, 5.05392094, 5.05392094,\n",
       "       5.05392094, 5.05392094, 5.05392094, 5.05392094, 5.05392094,\n",
       "       5.05392094, 5.05392094, 5.05392094, 5.05392094, 5.05392094,\n",
       "       5.05392094, 5.05392094, 5.05392094, 5.05392094, 5.05392094,\n",
       "       5.05392094, 5.05392094, 5.05392094, 5.05392094, 5.05392094])"
      ]
     },
     "execution_count": 30,
     "metadata": {},
     "output_type": "execute_result"
    }
   ],
   "source": [
    "#built in predict method\n",
    "reg.predict(x)"
   ]
  },
  {
   "cell_type": "markdown",
   "metadata": {},
   "source": [
    "## scipy minimize"
   ]
  },
  {
   "cell_type": "code",
   "execution_count": 31,
   "metadata": {},
   "outputs": [],
   "source": [
    "from scipy.optimize import minimize"
   ]
  },
  {
   "cell_type": "code",
   "execution_count": 32,
   "metadata": {
    "scrolled": true
   },
   "outputs": [
    {
     "data": {
      "text/plain": [
       "3.999999987147814"
      ]
     },
     "execution_count": 32,
     "metadata": {},
     "output_type": "execute_result"
    }
   ],
   "source": [
    "my_fun = lambda t: (t - 4)**2 + 3\n",
    "t0 = 0\n",
    "res = minimize(my_fun, t0)\n",
    "res.x[0]"
   ]
  },
  {
   "cell_type": "markdown",
   "metadata": {},
   "source": [
    "That wasn't so bad."
   ]
  },
  {
   "cell_type": "markdown",
   "metadata": {},
   "source": [
    "## Loss Function Classes"
   ]
  },
  {
   "cell_type": "markdown",
   "metadata": {},
   "source": [
    "I think we'll implement loss functions as a class that the user supplies.\n",
    "The class should have two methods, `loss` and `negative_gradient`, which both take two arguments, `y` and `y_hat`.\n",
    "The `loss` method should return a scalar, while the `negative_gradient` method should return an array the same size as `y` and `y_hat`."
   ]
  },
  {
   "cell_type": "code",
   "execution_count": 33,
   "metadata": {},
   "outputs": [],
   "source": [
    "class SquaredErrorLoss():\n",
    "    \n",
    "    def loss(self, y, y_hat):\n",
    "        return np.mean((y - y_hat)**2)\n",
    "    \n",
    "    def negative_gradient(self, y, y_hat):\n",
    "        return y - y_hat"
   ]
  },
  {
   "cell_type": "code",
   "execution_count": 34,
   "metadata": {},
   "outputs": [],
   "source": [
    "# make an instance\n",
    "obj = SquaredErrorLoss()"
   ]
  },
  {
   "cell_type": "code",
   "execution_count": 35,
   "metadata": {},
   "outputs": [
    {
     "data": {
      "text/plain": [
       "0.16367349506837026"
      ]
     },
     "execution_count": 35,
     "metadata": {},
     "output_type": "execute_result"
    }
   ],
   "source": [
    "# loss method should return a number\n",
    "obj.loss(y, y_hat)"
   ]
  },
  {
   "cell_type": "code",
   "execution_count": 36,
   "metadata": {},
   "outputs": [
    {
     "data": {
      "text/plain": [
       "array([-0.33332663, -0.6181863 , -0.1286288 , -0.18193069,  0.82764896,\n",
       "        0.43442346, -0.41105095, -0.95970381, -0.57326562, -0.0058895 ,\n",
       "        0.0990819 ,  0.75583624,  0.36802546,  0.72696627, -0.59741217,\n",
       "       -0.28142216, -0.13694604,  0.02727056,  0.67346328, -0.41443706,\n",
       "        0.35369184,  0.37579175,  0.11713809,  0.02941665,  0.19082495,\n",
       "       -0.01011571,  0.08210542, -0.62554829, -0.14732558, -0.45421149,\n",
       "        0.28193501,  0.37627271,  0.06702744, -0.0438545 , -0.05963979,\n",
       "       -0.01043173, -0.16689531, -0.18516943, -0.22507642,  0.76023427,\n",
       "       -0.43477567,  0.68100847, -0.46631425,  0.27625185, -0.02539372,\n",
       "       -0.05866027,  0.04482339, -0.34434079,  0.28562648,  0.06508821])"
      ]
     },
     "execution_count": 36,
     "metadata": {},
     "output_type": "execute_result"
    }
   ],
   "source": [
    "# negative_gradient method should return an array, same shape as y and y_hat\n",
    "obj.negative_gradient(y, y_hat)"
   ]
  },
  {
   "cell_type": "markdown",
   "metadata": {},
   "source": [
    "## GBM Implementation"
   ]
  },
  {
   "cell_type": "code",
   "execution_count": 37,
   "metadata": {},
   "outputs": [],
   "source": [
    "from sklearn.tree import DecisionTreeRegressor \n",
    "from scipy.optimize import minimize\n",
    "\n",
    "class GradientBoostingMachine():\n",
    "    '''Gradient Boosting Machine supporting any user-supplied loss function.'''\n",
    "    \n",
    "    def __init__(self, n_trees, learning_rate=0.1, max_depth=1):\n",
    "        self.n_trees=n_trees; \n",
    "        self.learning_rate=learning_rate\n",
    "        self.max_depth=max_depth;\n",
    "    \n",
    "    def fit(self, X, y, objective):\n",
    "        '''Fit the GBM using the specified loss function.'''\n",
    "        self.trees = []\n",
    "        self.base_prediction = self._get_optimal_base_value(y, objective.loss)\n",
    "        current_predictions = self.base_prediction * np.ones(shape=y.shape)\n",
    "        for _ in range(self.n_trees):\n",
    "            pseudo_residuals = objective.negative_gradient(y, current_predictions)\n",
    "            tree = DecisionTreeRegressor(max_depth=self.max_depth)\n",
    "            tree.fit(X, pseudo_residuals)\n",
    "            self._update_terminal_nodes(tree, X, y, current_predictions, objective.loss)\n",
    "            current_predictions += self.learning_rate * tree.predict(X)\n",
    "            self.trees.append(tree)\n",
    "     \n",
    "    def _get_optimal_base_value(self, y, loss):\n",
    "        '''Find the optimal initial prediction for the base model.'''\n",
    "        fun = lambda c: loss(y, c)\n",
    "        c0 = y.mean()\n",
    "        return minimize(fun=fun, x0=c0).x[0]\n",
    "        \n",
    "    def _update_terminal_nodes(self, tree, X, y, current_predictions, loss):\n",
    "        '''Update the tree's predictions according to the loss function.'''\n",
    "        # terminal node id's\n",
    "        leaf_nodes = np.nonzero(tree.tree_.children_left == tree.tree_.children_right)[0]\n",
    "        # compute leaf for each sample in ``X``.\n",
    "        leaf_node_for_each_sample = tree.apply(X)\n",
    "        for leaf in leaf_nodes:\n",
    "            samples_in_this_leaf = np.where(leaf_node_for_each_sample == leaf)[0]\n",
    "            val = self._get_optimal_leaf_value(y.take(samples_in_this_leaf, axis=0), \n",
    "                                               current_predictions.take(samples_in_this_leaf, \n",
    "                                                                        axis=0),\n",
    "                                               loss)\n",
    "            tree.tree_.value[leaf, 0, 0] = val\n",
    "            \n",
    "    def _get_optimal_leaf_value(self, y, current_predictions, loss):\n",
    "        '''Find the optimal prediction value for a given leaf.'''\n",
    "        fun = lambda c: loss(y, current_predictions + c)\n",
    "        c0 = y.mean()\n",
    "        return minimize(fun=fun, x0=c0).x[0]\n",
    "          \n",
    "    def predict(self, X):\n",
    "        '''Generate predictions for the given input data.'''\n",
    "        return (self.base_prediction \n",
    "                + self.learning_rate \n",
    "                * np.sum([tree.predict(X) for tree in self.trees], axis=0))"
   ]
  },
  {
   "cell_type": "code",
   "execution_count": null,
   "metadata": {},
   "outputs": [],
   "source": []
  },
  {
   "cell_type": "markdown",
   "metadata": {},
   "source": [
    "### Mean Squared Error"
   ]
  },
  {
   "cell_type": "code",
   "execution_count": 38,
   "metadata": {},
   "outputs": [],
   "source": [
    "rng = np.random.default_rng()\n",
    "x = np.linspace(0, 10, 500)\n",
    "y = np.where(x < 5, x, 5) + rng.normal(0, 0.4, size=x.shape)\n",
    "x = x.reshape(-1,1)"
   ]
  },
  {
   "cell_type": "code",
   "execution_count": 39,
   "metadata": {},
   "outputs": [],
   "source": [
    "class SquaredErrorLoss():\n",
    "    \n",
    "    def loss(self, y, y_hat):\n",
    "        return np.mean((y - y_hat)**2)\n",
    "    \n",
    "    def negative_gradient(self, y, y_hat):\n",
    "        return y - y_hat"
   ]
  },
  {
   "cell_type": "code",
   "execution_count": 40,
   "metadata": {
    "scrolled": true
   },
   "outputs": [],
   "source": [
    "gbm = GradientBoostingMachine(n_trees=10,\n",
    "                              learning_rate=0.5)\n",
    "gbm.fit(x, y, SquaredErrorLoss())"
   ]
  },
  {
   "cell_type": "code",
   "execution_count": 41,
   "metadata": {
    "scrolled": false
   },
   "outputs": [
    {
     "data": {
      "text/plain": [
       "Text(0.5, 1.0, 'model predicting mean or y | x')"
      ]
     },
     "execution_count": 41,
     "metadata": {},
     "output_type": "execute_result"
    },
    {
     "data": {
      "image/png": "[encoded data removed]",
      "text/plain": [
       "<Figure size 432x288 with 1 Axes>"
      ]
     },
     "metadata": {
      "needs_background": "light"
     },
     "output_type": "display_data"
    }
   ],
   "source": [
    "# fig, ax = plt.subplot()\n",
    "plt.plot(x.ravel(), y, 'o', label='data')\n",
    "plt.plot(x.ravel(), gbm.predict(x), '-k', label='model')\n",
    "plt.legend()\n",
    "plt.xlabel('x')\n",
    "plt.ylabel('y')\n",
    "plt.title('model predicting mean or y | x')"
   ]
  },
  {
   "cell_type": "code",
   "execution_count": null,
   "metadata": {},
   "outputs": [],
   "source": []
  },
  {
   "cell_type": "markdown",
   "metadata": {},
   "source": [
    "### Mean Absolute Error"
   ]
  },
  {
   "cell_type": "code",
   "execution_count": 42,
   "metadata": {},
   "outputs": [],
   "source": [
    "rng = np.random.default_rng()\n",
    "x = np.linspace(0, 10, 500)\n",
    "y = np.where(x < 5, x, 5) + rng.normal(0, 0.4, size=x.shape)\n",
    "x = x.reshape(-1,1)"
   ]
  },
  {
   "cell_type": "code",
   "execution_count": 43,
   "metadata": {},
   "outputs": [],
   "source": [
    "class AbsoluteErrorLoss():\n",
    "    \n",
    "    def loss(self, y, y_hat):\n",
    "        return np.mean(np.abs(y - y_hat))\n",
    "    \n",
    "    def negative_gradient(self, y, y_hat):\n",
    "        return np.sign(y - y_hat)"
   ]
  },
  {
   "cell_type": "code",
   "execution_count": 44,
   "metadata": {},
   "outputs": [],
   "source": [
    "gbm = GradientBoostingMachine(n_trees=10,\n",
    "                              learning_rate=0.5)\n",
    "gbm.fit(x, y, AbsoluteErrorLoss())"
   ]
  },
  {
   "cell_type": "code",
   "execution_count": 45,
   "metadata": {
    "scrolled": false
   },
   "outputs": [
    {
     "data": {
      "text/plain": [
       "Text(0.5, 1.0, 'model predicting median of y | x')"
      ]
     },
     "execution_count": 45,
     "metadata": {},
     "output_type": "execute_result"
    },
    {
     "data": {
      "image/png": "[encoded data removed]",
      "text/plain": [
       "<Figure size 432x288 with 1 Axes>"
      ]
     },
     "metadata": {
      "needs_background": "light"
     },
     "output_type": "display_data"
    }
   ],
   "source": [
    "# fig, ax = plt.subplot()\n",
    "plt.plot(x.ravel(), y, 'o', label='data')\n",
    "plt.plot(x.ravel(), gbm.predict(x), '-k', label='model')\n",
    "plt.legend()\n",
    "plt.xlabel('x')\n",
    "plt.ylabel('y')\n",
    "plt.title('model predicting median of y | x')"
   ]
  },
  {
   "cell_type": "code",
   "execution_count": null,
   "metadata": {},
   "outputs": [],
   "source": []
  },
  {
   "cell_type": "markdown",
   "metadata": {},
   "source": [
    "### Quantile Loss"
   ]
  },
  {
   "cell_type": "code",
   "execution_count": 46,
   "metadata": {},
   "outputs": [],
   "source": [
    "rng = np.random.default_rng()\n",
    "x = np.linspace(0, 10, 500)\n",
    "# y = np.where(x < 5, x, 5) + rng.uniform(-2, 2, size=x.shape)\n",
    "y = np.where(x < 5, x, 5) + rng.normal(0, 1, size=x.shape)\n",
    "x = x.reshape(-1,1)"
   ]
  },
  {
   "cell_type": "code",
   "execution_count": 47,
   "metadata": {},
   "outputs": [],
   "source": [
    "class QuantileLoss():\n",
    "    \n",
    "    def __init__(self, alpha):\n",
    "        if alpha < 0 or alpha >1:\n",
    "            raise ValueError('alpha must be between 0 and 1')\n",
    "        self.alpha = alpha\n",
    "        \n",
    "    def loss(self, y, y_hat):\n",
    "        e = y - y_hat\n",
    "        return np.mean(np.where(e > 0, self.alpha * e, (self.alpha - 1) * e))\n",
    "    \n",
    "    def negative_gradient(self, y, y_hat):\n",
    "        e = y - y_hat \n",
    "        return np.where(e > 0, self.alpha, self.alpha - 1)"
   ]
  },
  {
   "cell_type": "code",
   "execution_count": 48,
   "metadata": {},
   "outputs": [],
   "source": [
    "gbm = GradientBoostingMachine(n_trees=10,\n",
    "                              learning_rate=0.5)\n",
    "gbm.fit(x, y, QuantileLoss(alpha=0.9))"
   ]
  },
  {
   "cell_type": "code",
   "execution_count": 49,
   "metadata": {
    "scrolled": true
   },
   "outputs": [
    {
     "data": {
      "text/plain": [
       "Text(0.5, 1.0, 'model predicting 0.9 quantile of y | x')"
      ]
     },
     "execution_count": 49,
     "metadata": {},
     "output_type": "execute_result"
    },
    {
     "data": {
      "image/png": "[encoded data removed]",
      "text/plain": [
       "<Figure size 432x288 with 1 Axes>"
      ]
     },
     "metadata": {
      "needs_background": "light"
     },
     "output_type": "display_data"
    }
   ],
   "source": [
    "plt.plot(x, y, 'o', label='data')\n",
    "plt.plot(x, gbm.predict(x), 'k-', label='model')\n",
    "plt.legend()\n",
    "plt.xlabel('x')\n",
    "plt.ylabel('y')\n",
    "plt.title('model predicting 0.9 quantile of y | x')"
   ]
  },
  {
   "cell_type": "code",
   "execution_count": null,
   "metadata": {},
   "outputs": [],
   "source": []
  },
  {
   "cell_type": "markdown",
   "metadata": {},
   "source": [
    "### Binary Cross Entropy"
   ]
  },
  {
   "cell_type": "code",
   "execution_count": 50,
   "metadata": {},
   "outputs": [],
   "source": [
    "rng = np.random.default_rng()\n",
    "x = np.linspace(-3, 3, 500)\n",
    "expit = lambda t: np.exp(t) / (1 + np.exp(t))\n",
    "p = expit(x)\n",
    "y = rng.binomial(1, p, size=p.shape)\n",
    "x = x.reshape(-1,1)"
   ]
  },
  {
   "cell_type": "code",
   "execution_count": 51,
   "metadata": {},
   "outputs": [],
   "source": [
    "class BinaryCrossEntropyLoss():\n",
    "    # in these methods, y_hat gives the log odds ratio\n",
    "    \n",
    "    def __init__(self):\n",
    "        self.expit = lambda t: np.exp(t) / (1 + np.exp(t))\n",
    "    \n",
    "    def loss(self, y, y_hat):\n",
    "        p = self.expit(y_hat)\n",
    "        return -np.mean(y * np.log(p) + (1 - y) * np.log(1 - p))\n",
    "    \n",
    "    def negative_gradient(self, y, y_hat):\n",
    "        p = self.expit(y_hat)\n",
    "        return y / p - (1 - y) / (1 - p)"
   ]
  },
  {
   "cell_type": "code",
   "execution_count": 52,
   "metadata": {},
   "outputs": [],
   "source": [
    "gbm = GradientBoostingMachine(n_trees=10,\n",
    "                              learning_rate=0.5)\n",
    "gbm.fit(x, y, BinaryCrossEntropyLoss())"
   ]
  },
  {
   "cell_type": "code",
   "execution_count": 53,
   "metadata": {
    "scrolled": false
   },
   "outputs": [
    {
     "data": {
      "text/plain": [
       "<matplotlib.legend.Legend at 0x7faa16284e20>"
      ]
     },
     "execution_count": 53,
     "metadata": {},
     "output_type": "execute_result"
    },
    {
     "data": {
      "image/png": "[encoded data removed]",
      "text/plain": [
       "<Figure size 432x288 with 1 Axes>"
      ]
     },
     "metadata": {
      "needs_background": "light"
     },
     "output_type": "display_data"
    }
   ],
   "source": [
    "plt.plot(x, y, 'o', label='data')\n",
    "plt.plot(x, p, '-r', label='P(y=1|x)')\n",
    "plt.plot(x, expit(gbm.predict(x)), '-k', label='model')\n",
    "plt.title('model predicting P(y = 1 | x)')\n",
    "plt.xlabel('x')\n",
    "plt.ylabel('y')\n",
    "plt.legend()"
   ]
  },
  {
   "cell_type": "code",
   "execution_count": null,
   "metadata": {},
   "outputs": [],
   "source": []
  }
 ],
 "metadata": {
  "kernelspec": {
   "display_name": "Python 3",
   "language": "python",
   "name": "python3"
  },
  "language_info": {
   "codemirror_mode": {
    "name": "ipython",
    "version": 3
   },
   "file_extension": ".py",
   "mimetype": "text/x-python",
   "name": "python",
   "nbconvert_exporter": "python",
   "pygments_lexer": "ipython3",
   "version": "3.8.3"
  }
 },
 "nbformat": 4,
 "nbformat_minor": 4
}
