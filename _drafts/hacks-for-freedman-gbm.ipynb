{
 "cells": [
  {
   "cell_type": "markdown",
   "metadata": {},
   "source": [
    "# Hacks for Implementing Freedman's GBM"
   ]
  },
  {
   "cell_type": "markdown",
   "metadata": {},
   "source": [
    "In this notebook, I figure out the hacks needed to implement Freedman's original GBM algorithm using sklearn DecisionTreeRegressor as the weak learner and scipy minimize as the argmin method.\n",
    "Basically we just need to be able to modify the tree predictions to predict the output of line search on the global loss function, instead of just predicting the mean target value from the training data.\n",
    "This page on the [decision tree structure](https://scikit-learn.org/stable/auto_examples/tree/plot_unveil_tree_structure.html)  in the sklearn documentation is super helpful."
   ]
  },
  {
   "cell_type": "markdown",
   "metadata": {},
   "source": [
    "## sklearn decision trees"
   ]
  },
  {
   "cell_type": "code",
   "execution_count": 44,
   "metadata": {},
   "outputs": [],
   "source": [
    "import numpy as np\n",
    "import pandas as pd\n",
    "import matplotlib.pyplot as plt \n",
    "%matplotlib inline\n",
    "\n",
    "from sklearn.tree import DecisionTreeRegressor\n",
    "from sklearn.tree import plot_tree"
   ]
  },
  {
   "cell_type": "code",
   "execution_count": 45,
   "metadata": {},
   "outputs": [],
   "source": [
    "rng = np.random.default_rng()\n",
    "x = np.linspace(0, 10, 50)\n",
    "y = np.where(x < 5, x, 5) + rng.normal(0, 0.4, size=x.shape)\n",
    "x = x.reshape(-1,1)"
   ]
  },
  {
   "cell_type": "code",
   "execution_count": 69,
   "metadata": {},
   "outputs": [
    {
     "data": {
      "text/plain": [
       "[<matplotlib.lines.Line2D at 0x7fb4caf50e50>]"
      ]
     },
     "execution_count": 69,
     "metadata": {},
     "output_type": "execute_result"
    },
    {
     "data": {
      "image/png": "[encoded data removed]",
      "text/plain": [
       "<Figure size 432x288 with 1 Axes>"
      ]
     },
     "metadata": {
      "needs_background": "light"
     },
     "output_type": "display_data"
    }
   ],
   "source": [
    "plt.plot(x,y)"
   ]
  },
  {
   "cell_type": "code",
   "execution_count": 46,
   "metadata": {},
   "outputs": [
    {
     "data": {
      "text/plain": [
       "DecisionTreeRegressor(max_depth=2)"
      ]
     },
     "execution_count": 46,
     "metadata": {},
     "output_type": "execute_result"
    }
   ],
   "source": [
    "reg = DecisionTreeRegressor(max_depth=2)\n",
    "reg.fit(x, y)"
   ]
  },
  {
   "cell_type": "code",
   "execution_count": 47,
   "metadata": {},
   "outputs": [
    {
     "data": {
      "text/html": [
       "<div>\n",
       "<style scoped>\n",
       "    .dataframe tbody tr th:only-of-type {\n",
       "        vertical-align: middle;\n",
       "    }\n",
       "\n",
       "    .dataframe tbody tr th {\n",
       "        vertical-align: top;\n",
       "    }\n",
       "\n",
       "    .dataframe thead th {\n",
       "        text-align: right;\n",
       "    }\n",
       "</style>\n",
       "<table border=\"1\" class=\"dataframe\">\n",
       "  <thead>\n",
       "    <tr style=\"text-align: right;\">\n",
       "      <th></th>\n",
       "      <th>children_left</th>\n",
       "      <th>children_right</th>\n",
       "      <th>feature</th>\n",
       "      <th>threshold</th>\n",
       "      <th>n_node_samples</th>\n",
       "      <th>impurity</th>\n",
       "    </tr>\n",
       "  </thead>\n",
       "  <tbody>\n",
       "    <tr>\n",
       "      <th>0</th>\n",
       "      <td>1</td>\n",
       "      <td>4</td>\n",
       "      <td>0</td>\n",
       "      <td>2.755102</td>\n",
       "      <td>50</td>\n",
       "      <td>2.778122</td>\n",
       "    </tr>\n",
       "    <tr>\n",
       "      <th>1</th>\n",
       "      <td>2</td>\n",
       "      <td>3</td>\n",
       "      <td>0</td>\n",
       "      <td>1.530612</td>\n",
       "      <td>14</td>\n",
       "      <td>1.043919</td>\n",
       "    </tr>\n",
       "    <tr>\n",
       "      <th>2</th>\n",
       "      <td>-1</td>\n",
       "      <td>-1</td>\n",
       "      <td>-2</td>\n",
       "      <td>-2.000000</td>\n",
       "      <td>8</td>\n",
       "      <td>0.375030</td>\n",
       "    </tr>\n",
       "    <tr>\n",
       "      <th>3</th>\n",
       "      <td>-1</td>\n",
       "      <td>-1</td>\n",
       "      <td>-2</td>\n",
       "      <td>-2.000000</td>\n",
       "      <td>6</td>\n",
       "      <td>0.199316</td>\n",
       "    </tr>\n",
       "    <tr>\n",
       "      <th>4</th>\n",
       "      <td>5</td>\n",
       "      <td>6</td>\n",
       "      <td>0</td>\n",
       "      <td>4.183673</td>\n",
       "      <td>36</td>\n",
       "      <td>0.426851</td>\n",
       "    </tr>\n",
       "    <tr>\n",
       "      <th>5</th>\n",
       "      <td>-1</td>\n",
       "      <td>-1</td>\n",
       "      <td>-2</td>\n",
       "      <td>-2.000000</td>\n",
       "      <td>7</td>\n",
       "      <td>0.075354</td>\n",
       "    </tr>\n",
       "    <tr>\n",
       "      <th>6</th>\n",
       "      <td>-1</td>\n",
       "      <td>-1</td>\n",
       "      <td>-2</td>\n",
       "      <td>-2.000000</td>\n",
       "      <td>29</td>\n",
       "      <td>0.125541</td>\n",
       "    </tr>\n",
       "  </tbody>\n",
       "</table>\n",
       "</div>"
      ],
      "text/plain": [
       "   children_left  children_right  feature  threshold  n_node_samples  impurity\n",
       "0              1               4        0   2.755102              50  2.778122\n",
       "1              2               3        0   1.530612              14  1.043919\n",
       "2             -1              -1       -2  -2.000000               8  0.375030\n",
       "3             -1              -1       -2  -2.000000               6  0.199316\n",
       "4              5               6        0   4.183673              36  0.426851\n",
       "5             -1              -1       -2  -2.000000               7  0.075354\n",
       "6             -1              -1       -2  -2.000000              29  0.125541"
      ]
     },
     "execution_count": 47,
     "metadata": {},
     "output_type": "execute_result"
    }
   ],
   "source": [
    "# parallel arrays that give info on the nodes\n",
    "pd.DataFrame({\n",
    "    'children_left': reg.tree_.children_left\n",
    "    , 'children_right': reg.tree_.children_right\n",
    "    , 'feature': reg.tree_.feature \n",
    "    , 'threshold': reg.tree_.threshold\n",
    "    , 'n_node_samples': reg.tree_.n_node_samples \n",
    "    , 'impurity': reg.tree_.impurity\n",
    "})"
   ]
  },
  {
   "cell_type": "markdown",
   "metadata": {},
   "source": [
    "The index corresponds to the nodes in the tree.\n",
    "`children_left` and `children_right` give the index of the left and right children of the given node. \n",
    "They are set to -1 on the terminal nodes.\n",
    "Looks like the tree is indexed in a depth-first order."
   ]
  },
  {
   "cell_type": "code",
   "execution_count": 48,
   "metadata": {
    "scrolled": true
   },
   "outputs": [
    {
     "data": {
      "image/png": "[encoded data removed]",
      "text/plain": [
       "<Figure size 432x288 with 1 Axes>"
      ]
     },
     "metadata": {
      "needs_background": "light"
     },
     "output_type": "display_data"
    }
   ],
   "source": [
    "plot_tree(reg);"
   ]
  },
  {
   "cell_type": "code",
   "execution_count": 49,
   "metadata": {},
   "outputs": [
    {
     "data": {
      "text/plain": [
       "array([2, 2, 2, 2, 2, 2, 2, 2, 3, 3, 3, 3, 3, 3, 5, 5, 5, 5, 5, 5, 5, 6,\n",
       "       6, 6, 6, 6, 6, 6, 6, 6, 6, 6, 6, 6, 6, 6, 6, 6, 6, 6, 6, 6, 6, 6,\n",
       "       6, 6, 6, 6, 6, 6])"
      ]
     },
     "execution_count": 49,
     "metadata": {},
     "output_type": "execute_result"
    }
   ],
   "source": [
    "# find the terminal nodes that each observation lands in.\n",
    "reg.apply(x)"
   ]
  },
  {
   "cell_type": "code",
   "execution_count": 50,
   "metadata": {},
   "outputs": [
    {
     "data": {
      "text/plain": [
       "array([2, 2, 2, 2, 2, 2, 2, 2, 3, 3, 3, 3, 3, 3, 5, 5, 5, 5, 5, 5, 5, 6,\n",
       "       6, 6, 6, 6, 6, 6, 6, 6, 6, 6, 6, 6, 6, 6, 6, 6, 6, 6, 6, 6, 6, 6,\n",
       "       6, 6, 6, 6, 6, 6])"
      ]
     },
     "execution_count": 50,
     "metadata": {},
     "output_type": "execute_result"
    }
   ],
   "source": [
    "# find the terminal nodes that each observation lands in.\n",
    "# it works on the tree_ object too\n",
    "reg.tree_.apply(x.astype(np.float32))"
   ]
  },
  {
   "cell_type": "code",
   "execution_count": 51,
   "metadata": {},
   "outputs": [
    {
     "data": {
      "text/plain": [
       "array([2, 3, 5, 6])"
      ]
     },
     "execution_count": 51,
     "metadata": {},
     "output_type": "execute_result"
    }
   ],
   "source": [
    "# terminal node id's\n",
    "np.nonzero(reg.tree_.children_left == reg.tree_.children_right)[0]"
   ]
  },
  {
   "cell_type": "code",
   "execution_count": 52,
   "metadata": {},
   "outputs": [
    {
     "data": {
      "text/plain": [
       "array([[[3.7199241 ]],\n",
       "\n",
       "       [[1.35310439]],\n",
       "\n",
       "       [[0.60601261]],\n",
       "\n",
       "       [[2.34922676]],\n",
       "\n",
       "       [[4.64035399]],\n",
       "\n",
       "       [[3.50513863]],\n",
       "\n",
       "       [[4.91437149]]])"
      ]
     },
     "execution_count": 52,
     "metadata": {},
     "output_type": "execute_result"
    }
   ],
   "source": [
    "# the prediction values for each node (including non terminal ones)\n",
    "reg.tree_.value"
   ]
  },
  {
   "cell_type": "markdown",
   "metadata": {},
   "source": [
    "Not sure why `value` has two other dimensions."
   ]
  },
  {
   "cell_type": "code",
   "execution_count": 70,
   "metadata": {},
   "outputs": [
    {
     "data": {
      "text/plain": [
       "array([3.7199241 , 1.35310439, 0.60601261, 0.        , 4.64035399,\n",
       "       3.50513863, 4.91437149])"
      ]
     },
     "execution_count": 70,
     "metadata": {},
     "output_type": "execute_result"
    }
   ],
   "source": [
    "# the prediction values for each node (including non terminal ones)\n",
    "reg.tree_.value[:, 0, 0]"
   ]
  },
  {
   "cell_type": "code",
   "execution_count": 71,
   "metadata": {},
   "outputs": [
    {
     "data": {
      "text/plain": [
       "array([0.60601261, 0.60601261, 0.60601261, 0.60601261, 0.60601261,\n",
       "       0.60601261, 0.60601261, 0.60601261, 0.        , 0.        ,\n",
       "       0.        , 0.        , 0.        , 0.        , 3.50513863,\n",
       "       3.50513863, 3.50513863, 3.50513863, 3.50513863, 3.50513863,\n",
       "       3.50513863, 4.91437149, 4.91437149, 4.91437149, 4.91437149,\n",
       "       4.91437149, 4.91437149, 4.91437149, 4.91437149, 4.91437149,\n",
       "       4.91437149, 4.91437149, 4.91437149, 4.91437149, 4.91437149,\n",
       "       4.91437149, 4.91437149, 4.91437149, 4.91437149, 4.91437149,\n",
       "       4.91437149, 4.91437149, 4.91437149, 4.91437149, 4.91437149,\n",
       "       4.91437149, 4.91437149, 4.91437149, 4.91437149, 4.91437149])"
      ]
     },
     "execution_count": 71,
     "metadata": {},
     "output_type": "execute_result"
    }
   ],
   "source": [
    "# manually get predicted values for given feature vector observations\n",
    "reg.tree_.value[:, 0, 0][reg.apply(x)]"
   ]
  },
  {
   "cell_type": "code",
   "execution_count": 72,
   "metadata": {},
   "outputs": [],
   "source": [
    "# modifying one of the terminal node prediction values\n",
    "reg.tree_.value[3, 0, 0] = 0.0"
   ]
  },
  {
   "cell_type": "code",
   "execution_count": 73,
   "metadata": {
    "scrolled": true
   },
   "outputs": [
    {
     "data": {
      "text/plain": [
       "array([0.60601261, 0.60601261, 0.60601261, 0.60601261, 0.60601261,\n",
       "       0.60601261, 0.60601261, 0.60601261, 0.        , 0.        ,\n",
       "       0.        , 0.        , 0.        , 0.        , 3.50513863,\n",
       "       3.50513863, 3.50513863, 3.50513863, 3.50513863, 3.50513863,\n",
       "       3.50513863, 4.91437149, 4.91437149, 4.91437149, 4.91437149,\n",
       "       4.91437149, 4.91437149, 4.91437149, 4.91437149, 4.91437149,\n",
       "       4.91437149, 4.91437149, 4.91437149, 4.91437149, 4.91437149,\n",
       "       4.91437149, 4.91437149, 4.91437149, 4.91437149, 4.91437149,\n",
       "       4.91437149, 4.91437149, 4.91437149, 4.91437149, 4.91437149,\n",
       "       4.91437149, 4.91437149, 4.91437149, 4.91437149, 4.91437149])"
      ]
     },
     "execution_count": 73,
     "metadata": {},
     "output_type": "execute_result"
    }
   ],
   "source": [
    "#built in predict method\n",
    "reg.predict(x)"
   ]
  },
  {
   "cell_type": "markdown",
   "metadata": {},
   "source": [
    "## scipy minimize"
   ]
  },
  {
   "cell_type": "code",
   "execution_count": 227,
   "metadata": {},
   "outputs": [],
   "source": [
    "from scipy.optimize import minimize"
   ]
  },
  {
   "cell_type": "code",
   "execution_count": 228,
   "metadata": {},
   "outputs": [
    {
     "data": {
      "text/plain": [
       "3.999999987147814"
      ]
     },
     "execution_count": 228,
     "metadata": {},
     "output_type": "execute_result"
    }
   ],
   "source": [
    "my_fun = lambda t: (t - 4)**2 + 3\n",
    "t0 = 0\n",
    "res = minimize(my_fun, t0)\n",
    "res.x[0]"
   ]
  },
  {
   "cell_type": "markdown",
   "metadata": {},
   "source": [
    "That wasn't so bad."
   ]
  },
  {
   "cell_type": "markdown",
   "metadata": {},
   "source": [
    "## Loss Function Classes"
   ]
  },
  {
   "cell_type": "markdown",
   "metadata": {},
   "source": [
    "I think we'll implement loss functions as a class that the user supplies.\n",
    "The class should have two methods, `loss` and `negative_gradient`, which both take two arguments, `y` and `y_hat`."
   ]
  },
  {
   "cell_type": "code",
   "execution_count": 76,
   "metadata": {},
   "outputs": [],
   "source": [
    "class SquaredErrorLoss():\n",
    "    \n",
    "    def loss(y, y_hat):\n",
    "        return 0.5 * np.mean((y - y_hat)**2)\n",
    "    \n",
    "    def negative_gradient(y, raw_predictions):\n",
    "        return y - y_hat"
   ]
  },
  {
   "cell_type": "code",
   "execution_count": 77,
   "metadata": {},
   "outputs": [
    {
     "data": {
      "text/plain": [
       "0.41477507555725607"
      ]
     },
     "execution_count": 77,
     "metadata": {},
     "output_type": "execute_result"
    }
   ],
   "source": [
    "y_hat = reg.predict(x)\n",
    "\n",
    "SquaredErrorLoss.loss(y, y_hat)"
   ]
  },
  {
   "cell_type": "code",
   "execution_count": 78,
   "metadata": {},
   "outputs": [
    {
     "data": {
      "text/plain": [
       "0.41477507555725607"
      ]
     },
     "execution_count": 78,
     "metadata": {},
     "output_type": "execute_result"
    }
   ],
   "source": [
    "obj = SquaredErrorLoss\n",
    "obj.loss(y, y_hat)"
   ]
  },
  {
   "cell_type": "code",
   "execution_count": 230,
   "metadata": {},
   "outputs": [],
   "source": [
    "class SquaredErrorLoss():\n",
    "    \n",
    "    def loss(self, y, y_hat):\n",
    "        return np.mean((y - y_hat)**2)\n",
    "    \n",
    "    def negative_gradient(self, y, y_hat):\n",
    "        return y - y_hat"
   ]
  },
  {
   "cell_type": "code",
   "execution_count": 231,
   "metadata": {},
   "outputs": [
    {
     "data": {
      "text/plain": [
       "0.8295501511145121"
      ]
     },
     "execution_count": 231,
     "metadata": {},
     "output_type": "execute_result"
    }
   ],
   "source": [
    "obj = SquaredErrorLoss()\n",
    "obj.loss(y, y_hat)"
   ]
  },
  {
   "cell_type": "code",
   "execution_count": 232,
   "metadata": {},
   "outputs": [
    {
     "data": {
      "text/plain": [
       "array([-1.11686299e+00, -4.64147769e-01,  1.14075434e-01, -3.26648669e-01,\n",
       "       -1.17063299e-01,  9.00649155e-01,  7.08460552e-01,  3.01537583e-01,\n",
       "        1.72142148e+00,  2.02447683e+00,  2.09022662e+00,  3.01774265e+00,\n",
       "        2.48873752e+00,  2.75275547e+00, -2.21785813e-01, -1.59338006e-01,\n",
       "       -2.59292946e-01,  5.62620091e-01,  1.02549945e-01, -1.83111371e-01,\n",
       "        1.58358101e-01, -6.70970919e-01,  3.15798278e-01, -3.24294785e-01,\n",
       "       -9.11952127e-02, -5.73258223e-01, -1.54393535e-01, -2.00280559e-01,\n",
       "       -2.53188344e-01, -3.46028427e-01, -2.22892798e-02,  3.04935671e-01,\n",
       "        8.11770294e-01,  1.80158884e-02, -1.24631116e-02, -9.46964002e-02,\n",
       "        5.29937532e-01, -5.81464138e-01, -1.72699108e-01, -6.55416858e-02,\n",
       "        2.74136707e-03, -1.58493721e-01,  2.65449303e-01, -3.18837016e-02,\n",
       "        1.86115247e-01,  8.00554236e-01, -3.41700106e-02, -8.76539846e-02,\n",
       "        3.06546242e-01,  3.33101084e-01])"
      ]
     },
     "execution_count": 232,
     "metadata": {},
     "output_type": "execute_result"
    }
   ],
   "source": [
    "obj.negative_gradient(y, y_hat)"
   ]
  },
  {
   "cell_type": "markdown",
   "metadata": {},
   "source": [
    "## GBM Implementation"
   ]
  },
  {
   "cell_type": "code",
   "execution_count": 263,
   "metadata": {},
   "outputs": [],
   "source": [
    "from sklearn.tree import DecisionTreeRegressor \n",
    "from scipy.optimize import minimize\n",
    "\n",
    "class GradientBoostingMachine():\n",
    "    \n",
    "    def __init__(self, n_trees, learning_rate=0.1, max_depth=1):\n",
    "        self.n_trees=n_trees; \n",
    "        self.learning_rate=learning_rate\n",
    "        self.max_depth=max_depth;\n",
    "    \n",
    "    def fit(self, X, y, objective):\n",
    "        self.trees = []\n",
    "#         self.pseudo_residuals_list = [] \n",
    "#         self.current_predictions_list = []\n",
    "        self.base_prediction = self._get_optimal_base_value(y, objective.loss)\n",
    "        current_predictions = self.base_prediction * np.ones(shape=y.shape)\n",
    "#         print(current_predictions)\n",
    "        for _ in range(self.n_trees):\n",
    "            pseudo_residuals = objective.negative_gradient(y, current_predictions)\n",
    "#             print(pseudo_residuals)\n",
    "            tree = DecisionTreeRegressor(max_depth=self.max_depth)\n",
    "#             print(f'Fitting tree {id(tree)}')\n",
    "            tree.fit(X, pseudo_residuals)\n",
    "            self._update_terminal_nodes(tree, X, y, current_predictions, objective.loss)\n",
    "#             print(tree.predict(X))\n",
    "#             current_predictions += self.learning_rate * tree.predict(X)\n",
    "            current_predictions = current_predictions.copy() + self.learning_rate * tree.predict(X)\n",
    "#             print(current_predictions)\n",
    "            self.trees.append(tree)\n",
    "#             self.pseudo_residuals_list.append(pseudo_residuals) \n",
    "#             self.current_predictions_list.append(current_predictions)\n",
    "     \n",
    "    def _get_optimal_base_value(self, y, loss):\n",
    "#         print(f'optimizer has y.shape = {y.shape}')\n",
    "        fun = lambda c: loss(y, c)\n",
    "        c0 = y.mean()\n",
    "        return minimize(fun=fun, x0=c0).x[0]\n",
    "        \n",
    "    def _update_terminal_nodes(self, tree, X, y, current_predictions, loss):\n",
    "#         print(f'Updating tree # {id(tree)}')\n",
    "        # terminal node id's\n",
    "        leaf_nodes = np.nonzero(tree.tree_.children_left == tree.tree_.children_right)[0]\n",
    "#         print(f'leaf nodes = {leaf_nodes}')\n",
    "        # compute leaf for each sample in ``X``.\n",
    "        leaf_node_for_each_sample = tree.apply(X)\n",
    "        for leaf in leaf_nodes:\n",
    "#             print(f'n samples in leaf {leaf} = {np.count_nonzero(leaf_node_for_each_sample == leaf)}')\n",
    "            samples_in_this_leaf = np.where(leaf_node_for_each_sample == leaf)[0]\n",
    "            val = self._get_optimal_leaf_value(y.take(samples_in_this_leaf, axis=0), \n",
    "                                               current_predictions.take(samples_in_this_leaf, axis=0),\n",
    "                                               loss)\n",
    "            tree.tree_.value[leaf, 0, 0] = val\n",
    "#             print(f'value assigned = {val}')\n",
    "            \n",
    "    def _get_optimal_leaf_value(self, y, current_predictions, loss):\n",
    "        fun = lambda c: loss(y, current_predictions + c)\n",
    "        c0 = y.mean()\n",
    "        return minimize(fun=fun, x0=c0).x[0]\n",
    "          \n",
    "    def predict(self, X):\n",
    "        return (self.base_prediction + \n",
    "                self.learning_rate * np.sum([tree.predict(X) for tree in self.trees], axis=0))"
   ]
  },
  {
   "cell_type": "code",
   "execution_count": 276,
   "metadata": {},
   "outputs": [],
   "source": [
    "gbm = GradientBoostingMachine(n_trees=10,\n",
    "                              learning_rate=1)"
   ]
  },
  {
   "cell_type": "code",
   "execution_count": 277,
   "metadata": {
    "scrolled": true
   },
   "outputs": [],
   "source": [
    "gbm.fit(x, y, SquaredErrorLoss())"
   ]
  },
  {
   "cell_type": "code",
   "execution_count": 278,
   "metadata": {
    "scrolled": true
   },
   "outputs": [
    {
     "data": {
      "text/plain": [
       "[<matplotlib.lines.Line2D at 0x7fb4cbb68190>]"
      ]
     },
     "execution_count": 278,
     "metadata": {},
     "output_type": "execute_result"
    },
    {
     "data": {
      "image/png": "[encoded data removed]",
      "text/plain": [
       "<Figure size 432x288 with 1 Axes>"
      ]
     },
     "metadata": {
      "needs_background": "light"
     },
     "output_type": "display_data"
    }
   ],
   "source": [
    "# fig, ax = plt.subplot()\n",
    "plt.plot(x.ravel(), y, 'o')\n",
    "plt.plot(x.ravel(), gbm.predict(x), '-k')"
   ]
  },
  {
   "cell_type": "code",
   "execution_count": 224,
   "metadata": {
    "scrolled": false
   },
   "outputs": [
    {
     "data": {
      "text/plain": [
       "[array([-4.23077448, -3.57805926, -2.99983606, -3.44056017, -3.2309748 ,\n",
       "        -2.21326234, -2.40545094, -2.81237391, -1.99850262, -1.69544728,\n",
       "        -1.62969749, -0.70218146, -1.23118658, -0.96716863, -0.43657128,\n",
       "        -0.37412348, -0.47407842,  0.34783462, -0.11223553, -0.39789684,\n",
       "        -0.05642737,  0.52347647,  1.51024567,  0.87015261,  1.10325218,\n",
       "         0.62118917,  1.04005386,  0.99416683,  0.94125905,  0.84841896,\n",
       "         1.17215811,  1.49938306,  2.00621768,  1.21246328,  1.18198428,\n",
       "         1.09975099,  1.72438492,  0.61298325,  1.02174828,  1.1289057 ,\n",
       "         1.19718876,  1.03595367,  1.45989669,  1.16256369,  1.38056264,\n",
       "         1.99500163,  1.16027738,  1.10679341,  1.50099363,  1.52754847]),\n",
       " array([-5.58387887, -4.93116365, -4.35294045, -4.79366455, -4.58407918,\n",
       "        -3.56636673, -3.75855533, -4.1654783 , -3.35160701, -3.04855166,\n",
       "        -2.98280187, -2.05528584, -2.58429097, -2.32027302, -5.07692528,\n",
       "        -5.01447747, -5.11443241, -4.29251937, -4.75258952, -5.03825083,\n",
       "        -4.69678136, -4.11687752, -3.13010832, -3.77020139, -3.53710182,\n",
       "        -4.01916483, -3.60030014, -3.64618716, -3.69909495, -3.79193503,\n",
       "        -3.46819588, -3.14097093, -2.63413631, -3.42789071, -3.45836971,\n",
       "        -3.540603  , -2.91596907, -4.02737074, -3.61860571, -3.51144829,\n",
       "        -3.44316524, -3.60440032, -3.1804573 , -3.4777903 , -3.25979136,\n",
       "        -2.64535237, -3.48007661, -3.53356059, -3.13936036, -3.11280552])]"
      ]
     },
     "execution_count": 224,
     "metadata": {},
     "output_type": "execute_result"
    }
   ],
   "source": [
    "gbm.pseudo_residuals_list"
   ]
  },
  {
   "cell_type": "code",
   "execution_count": 225,
   "metadata": {
    "scrolled": false
   },
   "outputs": [
    {
     "data": {
      "text/plain": [
       "[array([5.07302849, 5.07302849, 5.07302849, 5.07302849, 5.07302849,\n",
       "        5.07302849, 5.07302849, 5.07302849, 5.07302849, 5.07302849,\n",
       "        5.07302849, 5.07302849, 5.07302849, 5.07302849, 8.3602781 ,\n",
       "        8.3602781 , 8.3602781 , 8.3602781 , 8.3602781 , 8.3602781 ,\n",
       "        8.3602781 , 8.3602781 , 8.3602781 , 8.3602781 , 8.3602781 ,\n",
       "        8.3602781 , 8.3602781 , 8.3602781 , 8.3602781 , 8.3602781 ,\n",
       "        8.3602781 , 8.3602781 , 8.3602781 , 8.3602781 , 8.3602781 ,\n",
       "        8.3602781 , 8.3602781 , 8.3602781 , 8.3602781 , 8.3602781 ,\n",
       "        8.3602781 , 8.3602781 , 8.3602781 , 8.3602781 , 8.3602781 ,\n",
       "        8.3602781 , 8.3602781 , 8.3602781 , 8.3602781 , 8.3602781 ]),\n",
       " array([ 5.29691164,  5.29691164,  5.29691164,  5.29691164,  5.29691164,\n",
       "         9.18140159,  9.18140159,  9.18140159,  9.18140159,  9.18140159,\n",
       "         9.18140159,  9.18140159,  9.18140159,  9.18140159, 12.46865119,\n",
       "        12.46865119, 12.46865119, 12.46865119, 12.46865119, 12.46865119,\n",
       "        12.46865119, 12.46865119, 12.46865119, 12.46865119, 12.46865119,\n",
       "        12.46865119, 12.46865119, 12.46865119, 12.46865119, 12.46865119,\n",
       "        12.46865119, 12.46865119, 12.46865119, 12.46865119, 12.46865119,\n",
       "        12.46865119, 12.46865119, 12.46865119, 12.46865119, 12.46865119,\n",
       "        12.46865119, 12.46865119, 12.46865119, 12.46865119, 12.46865119,\n",
       "        12.46865119, 12.46865119, 12.46865119, 12.46865119, 12.46865119])]"
      ]
     },
     "execution_count": 225,
     "metadata": {},
     "output_type": "execute_result"
    }
   ],
   "source": [
    "gbm.current_predictions_list"
   ]
  },
  {
   "cell_type": "code",
   "execution_count": 226,
   "metadata": {
    "scrolled": true
   },
   "outputs": [
    {
     "data": {
      "image/png": "[encoded data removed]",
      "text/plain": [
       "<Figure size 432x288 with 1 Axes>"
      ]
     },
     "metadata": {
      "needs_background": "light"
     },
     "output_type": "display_data"
    }
   ],
   "source": [
    "# fig, ax = plt.subplot()\n",
    "for i in range(gbm.n_trees):\n",
    "    plt.plot(x.ravel(), gbm.current_predictions_list[i], '-')\n"
   ]
  },
  {
   "cell_type": "code",
   "execution_count": null,
   "metadata": {},
   "outputs": [],
   "source": []
  },
  {
   "cell_type": "code",
   "execution_count": 86,
   "metadata": {
    "scrolled": true
   },
   "outputs": [
    {
     "data": {
      "text/plain": [
       "array([11.77441585, 11.77441585, 11.77441585, 11.77441585, 11.77441585,\n",
       "       11.77441585, 11.77441585, 11.77441585, 11.77441585, 11.77441585,\n",
       "       11.77441585, 11.77441585, 11.77441585, 11.77441585,  3.7199241 ,\n",
       "        3.7199241 ,  3.7199241 ,  3.7199241 ,  3.7199241 ,  3.7199241 ,\n",
       "        3.7199241 ,  3.7199241 ,  3.7199241 ,  3.7199241 ,  3.7199241 ,\n",
       "        3.7199241 ,  3.7199241 ,  3.7199241 ,  3.7199241 ,  3.7199241 ,\n",
       "        3.7199241 ,  3.7199241 ,  3.7199241 ,  3.7199241 ,  3.7199241 ,\n",
       "        3.7199241 ,  3.7199241 ,  3.7199241 ,  3.7199241 ,  3.7199241 ,\n",
       "        3.7199241 ,  3.7199241 ,  3.7199241 ,  3.7199241 ,  3.7199241 ,\n",
       "        3.7199241 ,  3.7199241 ,  3.7199241 ,  3.7199241 ,  3.7199241 ])"
      ]
     },
     "execution_count": 86,
     "metadata": {},
     "output_type": "execute_result"
    }
   ],
   "source": [
    "gbm.predict(x)"
   ]
  },
  {
   "cell_type": "code",
   "execution_count": 87,
   "metadata": {},
   "outputs": [
    {
     "data": {
      "text/plain": [
       "array([ 1.00681147e+00,  1.00681147e+00,  1.00681147e+00,  1.00681147e+00,\n",
       "        1.00681147e+00,  1.00681147e+00,  1.00681147e+00,  1.00681147e+00,\n",
       "        1.00681147e+00,  1.00681147e+00,  1.00681147e+00,  1.00681147e+00,\n",
       "        1.00681147e+00,  1.00681147e+00, -2.59052039e-16, -2.59052039e-16,\n",
       "       -2.59052039e-16, -2.59052039e-16, -2.59052039e-16, -2.59052039e-16,\n",
       "       -2.59052039e-16, -2.59052039e-16, -2.59052039e-16, -2.59052039e-16,\n",
       "       -2.59052039e-16, -2.59052039e-16, -2.59052039e-16, -2.59052039e-16,\n",
       "       -2.59052039e-16, -2.59052039e-16, -2.59052039e-16, -2.59052039e-16,\n",
       "       -2.59052039e-16, -2.59052039e-16, -2.59052039e-16, -2.59052039e-16,\n",
       "       -2.59052039e-16, -2.59052039e-16, -2.59052039e-16, -2.59052039e-16,\n",
       "       -2.59052039e-16, -2.59052039e-16, -2.59052039e-16, -2.59052039e-16,\n",
       "       -2.59052039e-16, -2.59052039e-16, -2.59052039e-16, -2.59052039e-16,\n",
       "       -2.59052039e-16, -2.59052039e-16])"
      ]
     },
     "execution_count": 87,
     "metadata": {},
     "output_type": "execute_result"
    }
   ],
   "source": [
    "gbm.trees[1].predict(x)"
   ]
  },
  {
   "cell_type": "code",
   "execution_count": 26,
   "metadata": {},
   "outputs": [
    {
     "data": {
      "text/plain": [
       "(3.804836852366851, 3.804836852366851)"
      ]
     },
     "execution_count": 26,
     "metadata": {},
     "output_type": "execute_result"
    }
   ],
   "source": [
    "gbm.initial_prediction, y.mean()"
   ]
  },
  {
   "cell_type": "code",
   "execution_count": 27,
   "metadata": {},
   "outputs": [
    {
     "data": {
      "text/plain": [
       "array([3.01917863, 6.92685996, 6.92685996, 6.92685996, 6.92685996,\n",
       "       6.92685996, 6.92685996, 6.92685996, 6.92685996, 6.92685996,\n",
       "       6.92685996, 6.92685996, 6.92685996, 6.92685996, 6.92685996,\n",
       "       6.92685996, 6.92685996, 6.92685996, 6.92685996, 6.92685996,\n",
       "       6.92685996, 6.92685996, 6.92685996, 6.92685996, 6.92685996,\n",
       "       6.92685996, 6.92685996, 6.92685996, 6.92685996, 6.92685996,\n",
       "       6.92685996, 6.92685996, 6.92685996, 6.92685996, 6.92685996,\n",
       "       6.92685996, 6.92685996, 6.92685996, 6.92685996, 6.92685996,\n",
       "       6.92685996, 6.92685996, 6.92685996, 6.92685996, 6.92685996,\n",
       "       6.92685996, 6.92685996, 6.92685996, 6.92685996, 6.92685996])"
      ]
     },
     "execution_count": 27,
     "metadata": {},
     "output_type": "execute_result"
    }
   ],
   "source": [
    "gbm.predict(x)"
   ]
  },
  {
   "cell_type": "code",
   "execution_count": null,
   "metadata": {},
   "outputs": [],
   "source": []
  }
 ],
 "metadata": {
  "kernelspec": {
   "display_name": "Python 3",
   "language": "python",
   "name": "python3"
  },
  "language_info": {
   "codemirror_mode": {
    "name": "ipython",
    "version": 3
   },
   "file_extension": ".py",
   "mimetype": "text/x-python",
   "name": "python",
   "nbconvert_exporter": "python",
   "pygments_lexer": "ipython3",
   "version": "3.8.3"
  }
 },
 "nbformat": 4,
 "nbformat_minor": 4
}
