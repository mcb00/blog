{
 "cells": [
  {
   "cell_type": "markdown",
   "metadata": {},
   "source": [
    "# Hacks for Implementing Freedman's GBM"
   ]
  },
  {
   "cell_type": "markdown",
   "metadata": {},
   "source": [
    "In this notebook, I figure out the hacks needed to implement Freedman's original GBM algorithm using sklearn DecisionTreeRegressor as the weak learner and scipy minimize as the argmin method.\n",
    "Basically we just need to be able to modify the tree predictions to predict the output of line search on the global loss function, instead of just predicting the mean target value from the training data.\n",
    "This page on the [decision tree structure](https://scikit-learn.org/stable/auto_examples/tree/plot_unveil_tree_structure.html)  in the sklearn documentation is super helpful."
   ]
  },
  {
   "cell_type": "markdown",
   "metadata": {},
   "source": [
    "## sklearn decision trees"
   ]
  },
  {
   "cell_type": "code",
   "execution_count": 16,
   "metadata": {},
   "outputs": [],
   "source": [
    "import numpy as np\n",
    "import pandas as pd\n",
    "import matplotlib.pyplot as plt \n",
    "%matplotlib inline\n",
    "\n",
    "from sklearn.tree import DecisionTreeRegressor\n",
    "from sklearn.tree import plot_tree"
   ]
  },
  {
   "cell_type": "code",
   "execution_count": 17,
   "metadata": {},
   "outputs": [],
   "source": [
    "rng = np.random.default_rng()\n",
    "x = np.linspace(0, 10, 50)\n",
    "y = np.where(x < 5, x, 5) + rng.normal(0, 0.4, size=x.shape)\n",
    "x = x.reshape(-1,1)"
   ]
  },
  {
   "cell_type": "code",
   "execution_count": 40,
   "metadata": {},
   "outputs": [
    {
     "data": {
      "text/plain": [
       "DecisionTreeRegressor(max_depth=2)"
      ]
     },
     "execution_count": 40,
     "metadata": {},
     "output_type": "execute_result"
    }
   ],
   "source": [
    "reg = DecisionTreeRegressor(max_depth=2)\n",
    "reg.fit(x, y)"
   ]
  },
  {
   "cell_type": "code",
   "execution_count": 41,
   "metadata": {},
   "outputs": [
    {
     "data": {
      "text/html": [
       "<div>\n",
       "<style scoped>\n",
       "    .dataframe tbody tr th:only-of-type {\n",
       "        vertical-align: middle;\n",
       "    }\n",
       "\n",
       "    .dataframe tbody tr th {\n",
       "        vertical-align: top;\n",
       "    }\n",
       "\n",
       "    .dataframe thead th {\n",
       "        text-align: right;\n",
       "    }\n",
       "</style>\n",
       "<table border=\"1\" class=\"dataframe\">\n",
       "  <thead>\n",
       "    <tr style=\"text-align: right;\">\n",
       "      <th></th>\n",
       "      <th>children_left</th>\n",
       "      <th>children_right</th>\n",
       "      <th>feature</th>\n",
       "      <th>threshold</th>\n",
       "      <th>n_node_samples</th>\n",
       "      <th>impurity</th>\n",
       "    </tr>\n",
       "  </thead>\n",
       "  <tbody>\n",
       "    <tr>\n",
       "      <th>0</th>\n",
       "      <td>1</td>\n",
       "      <td>4</td>\n",
       "      <td>0</td>\n",
       "      <td>3.571429</td>\n",
       "      <td>50</td>\n",
       "      <td>2.579745</td>\n",
       "    </tr>\n",
       "    <tr>\n",
       "      <th>1</th>\n",
       "      <td>2</td>\n",
       "      <td>3</td>\n",
       "      <td>0</td>\n",
       "      <td>1.530612</td>\n",
       "      <td>18</td>\n",
       "      <td>0.920729</td>\n",
       "    </tr>\n",
       "    <tr>\n",
       "      <th>2</th>\n",
       "      <td>-1</td>\n",
       "      <td>-1</td>\n",
       "      <td>-2</td>\n",
       "      <td>-2.000000</td>\n",
       "      <td>8</td>\n",
       "      <td>0.387986</td>\n",
       "    </tr>\n",
       "    <tr>\n",
       "      <th>3</th>\n",
       "      <td>-1</td>\n",
       "      <td>-1</td>\n",
       "      <td>-2</td>\n",
       "      <td>-2.000000</td>\n",
       "      <td>10</td>\n",
       "      <td>0.184009</td>\n",
       "    </tr>\n",
       "    <tr>\n",
       "      <th>4</th>\n",
       "      <td>5</td>\n",
       "      <td>6</td>\n",
       "      <td>0</td>\n",
       "      <td>4.387755</td>\n",
       "      <td>32</td>\n",
       "      <td>0.255247</td>\n",
       "    </tr>\n",
       "    <tr>\n",
       "      <th>5</th>\n",
       "      <td>-1</td>\n",
       "      <td>-1</td>\n",
       "      <td>-2</td>\n",
       "      <td>-2.000000</td>\n",
       "      <td>4</td>\n",
       "      <td>0.029179</td>\n",
       "    </tr>\n",
       "    <tr>\n",
       "      <th>6</th>\n",
       "      <td>-1</td>\n",
       "      <td>-1</td>\n",
       "      <td>-2</td>\n",
       "      <td>-2.000000</td>\n",
       "      <td>28</td>\n",
       "      <td>0.178016</td>\n",
       "    </tr>\n",
       "  </tbody>\n",
       "</table>\n",
       "</div>"
      ],
      "text/plain": [
       "   children_left  children_right  feature  threshold  n_node_samples  impurity\n",
       "0              1               4        0   3.571429              50  2.579745\n",
       "1              2               3        0   1.530612              18  0.920729\n",
       "2             -1              -1       -2  -2.000000               8  0.387986\n",
       "3             -1              -1       -2  -2.000000              10  0.184009\n",
       "4              5               6        0   4.387755              32  0.255247\n",
       "5             -1              -1       -2  -2.000000               4  0.029179\n",
       "6             -1              -1       -2  -2.000000              28  0.178016"
      ]
     },
     "execution_count": 41,
     "metadata": {},
     "output_type": "execute_result"
    }
   ],
   "source": [
    "# parallel arrays that give info on the nodes\n",
    "pd.DataFrame({\n",
    "    'children_left': reg.tree_.children_left\n",
    "    , 'children_right': reg.tree_.children_right\n",
    "    , 'feature': reg.tree_.feature \n",
    "    , 'threshold': reg.tree_.threshold\n",
    "    , 'n_node_samples': reg.tree_.n_node_samples \n",
    "    , 'impurity': reg.tree_.impurity\n",
    "})"
   ]
  },
  {
   "cell_type": "markdown",
   "metadata": {},
   "source": [
    "The index corresponds to the nodes in the tree.\n",
    "`children_left` and `children_right` give the index of the left and right children of the given node. \n",
    "They are set to -1 on the terminal nodes.\n",
    "Looks like the tree is indexed in a depth-first order."
   ]
  },
  {
   "cell_type": "code",
   "execution_count": 43,
   "metadata": {
    "scrolled": true
   },
   "outputs": [
    {
     "data": {
      "image/png": "[encoded data removed]",
      "text/plain": [
       "<Figure size 432x288 with 1 Axes>"
      ]
     },
     "metadata": {
      "needs_background": "light"
     },
     "output_type": "display_data"
    }
   ],
   "source": [
    "plot_tree(reg);"
   ]
  },
  {
   "cell_type": "code",
   "execution_count": 44,
   "metadata": {},
   "outputs": [
    {
     "data": {
      "text/plain": [
       "array([2, 2, 2, 2, 2, 2, 2, 2, 3, 3, 3, 3, 3, 3, 3, 3, 3, 3, 5, 5, 5, 5,\n",
       "       6, 6, 6, 6, 6, 6, 6, 6, 6, 6, 6, 6, 6, 6, 6, 6, 6, 6, 6, 6, 6, 6,\n",
       "       6, 6, 6, 6, 6, 6])"
      ]
     },
     "execution_count": 44,
     "metadata": {},
     "output_type": "execute_result"
    }
   ],
   "source": [
    "# find the terminal nodes that each observation lands in.\n",
    "reg.apply(x)"
   ]
  },
  {
   "cell_type": "code",
   "execution_count": 48,
   "metadata": {},
   "outputs": [
    {
     "data": {
      "text/plain": [
       "array([2, 2, 2, 2, 2, 2, 2, 2, 3, 3, 3, 3, 3, 3, 3, 3, 3, 3, 5, 5, 5, 5,\n",
       "       6, 6, 6, 6, 6, 6, 6, 6, 6, 6, 6, 6, 6, 6, 6, 6, 6, 6, 6, 6, 6, 6,\n",
       "       6, 6, 6, 6, 6, 6])"
      ]
     },
     "execution_count": 48,
     "metadata": {},
     "output_type": "execute_result"
    }
   ],
   "source": [
    "# find the terminal nodes that each observation lands in.\n",
    "# it works on the tree_ object too\n",
    "reg.tree_.apply(x.astype(np.float32))"
   ]
  },
  {
   "cell_type": "code",
   "execution_count": 39,
   "metadata": {},
   "outputs": [
    {
     "data": {
      "text/plain": [
       "(array([2, 3, 5, 6]),)"
      ]
     },
     "execution_count": 39,
     "metadata": {},
     "output_type": "execute_result"
    }
   ],
   "source": [
    "# terminal node id's\n",
    "np.nonzero(tree.tree_.children_left == tree.tree_.children_right)"
   ]
  },
  {
   "cell_type": "code",
   "execution_count": 51,
   "metadata": {},
   "outputs": [
    {
     "data": {
      "text/plain": [
       "array([[[3.74375431]],\n",
       "\n",
       "       [[1.81851866]],\n",
       "\n",
       "       [[0.91986466]],\n",
       "\n",
       "       [[2.53744187]],\n",
       "\n",
       "       [[4.82669936]],\n",
       "\n",
       "       [[4.00764208]],\n",
       "\n",
       "       [[4.94370754]]])"
      ]
     },
     "execution_count": 51,
     "metadata": {},
     "output_type": "execute_result"
    }
   ],
   "source": [
    "# the prediction values for each node (including non terminal ones)\n",
    "tree.tree_.value"
   ]
  },
  {
   "cell_type": "markdown",
   "metadata": {},
   "source": [
    "Not sure why `value` has two other dimensions."
   ]
  },
  {
   "cell_type": "code",
   "execution_count": 50,
   "metadata": {},
   "outputs": [
    {
     "data": {
      "text/plain": [
       "array([3.74375431, 1.81851866, 0.91986466, 2.53744187, 4.82669936,\n",
       "       4.00764208, 4.94370754])"
      ]
     },
     "execution_count": 50,
     "metadata": {},
     "output_type": "execute_result"
    }
   ],
   "source": [
    "# the prediction values for each node (including non terminal ones)\n",
    "tree.tree_.value[:, 0, 0]"
   ]
  },
  {
   "cell_type": "code",
   "execution_count": 52,
   "metadata": {},
   "outputs": [
    {
     "data": {
      "text/plain": [
       "array([0.91986466, 0.91986466, 0.91986466, 0.91986466, 0.91986466,\n",
       "       0.91986466, 0.91986466, 0.91986466, 2.53744187, 2.53744187,\n",
       "       2.53744187, 2.53744187, 2.53744187, 2.53744187, 2.53744187,\n",
       "       2.53744187, 2.53744187, 2.53744187, 4.00764208, 4.00764208,\n",
       "       4.00764208, 4.00764208, 4.94370754, 4.94370754, 4.94370754,\n",
       "       4.94370754, 4.94370754, 4.94370754, 4.94370754, 4.94370754,\n",
       "       4.94370754, 4.94370754, 4.94370754, 4.94370754, 4.94370754,\n",
       "       4.94370754, 4.94370754, 4.94370754, 4.94370754, 4.94370754,\n",
       "       4.94370754, 4.94370754, 4.94370754, 4.94370754, 4.94370754,\n",
       "       4.94370754, 4.94370754, 4.94370754, 4.94370754, 4.94370754])"
      ]
     },
     "execution_count": 52,
     "metadata": {},
     "output_type": "execute_result"
    }
   ],
   "source": [
    "# manually get predicted values for given feature vector observations\n",
    "tree.tree_.value[:, 0, 0][reg.apply(x)]"
   ]
  },
  {
   "cell_type": "code",
   "execution_count": 55,
   "metadata": {},
   "outputs": [],
   "source": [
    "# modifying one of the terminal node prediction values\n",
    "reg.tree_.value[3, 0, 0] = 0.0"
   ]
  },
  {
   "cell_type": "code",
   "execution_count": 56,
   "metadata": {
    "scrolled": true
   },
   "outputs": [
    {
     "data": {
      "text/plain": [
       "array([0.91986466, 0.91986466, 0.91986466, 0.91986466, 0.91986466,\n",
       "       0.91986466, 0.91986466, 0.91986466, 0.        , 0.        ,\n",
       "       0.        , 0.        , 0.        , 0.        , 0.        ,\n",
       "       0.        , 0.        , 0.        , 4.00764208, 4.00764208,\n",
       "       4.00764208, 4.00764208, 4.94370754, 4.94370754, 4.94370754,\n",
       "       4.94370754, 4.94370754, 4.94370754, 4.94370754, 4.94370754,\n",
       "       4.94370754, 4.94370754, 4.94370754, 4.94370754, 4.94370754,\n",
       "       4.94370754, 4.94370754, 4.94370754, 4.94370754, 4.94370754,\n",
       "       4.94370754, 4.94370754, 4.94370754, 4.94370754, 4.94370754,\n",
       "       4.94370754, 4.94370754, 4.94370754, 4.94370754, 4.94370754])"
      ]
     },
     "execution_count": 56,
     "metadata": {},
     "output_type": "execute_result"
    }
   ],
   "source": [
    "#built in predict method\n",
    "reg.predict(x)"
   ]
  },
  {
   "cell_type": "markdown",
   "metadata": {},
   "source": [
    "## scipy minimize"
   ]
  },
  {
   "cell_type": "code",
   "execution_count": 57,
   "metadata": {},
   "outputs": [],
   "source": [
    "from scipy.optimize import minimize"
   ]
  },
  {
   "cell_type": "code",
   "execution_count": 63,
   "metadata": {},
   "outputs": [
    {
     "data": {
      "text/plain": [
       "3.999999987147814"
      ]
     },
     "execution_count": 63,
     "metadata": {},
     "output_type": "execute_result"
    }
   ],
   "source": [
    "my_fun = lambda t: (t - 4)**2 + 3\n",
    "t0 = 0\n",
    "res = minimize(my_fun, t0)\n",
    "res.x[0]"
   ]
  },
  {
   "cell_type": "markdown",
   "metadata": {},
   "source": [
    "That wasn't so bad."
   ]
  },
  {
   "cell_type": "markdown",
   "metadata": {},
   "source": [
    "## Loss Function Classes"
   ]
  },
  {
   "cell_type": "markdown",
   "metadata": {},
   "source": [
    "I think we'll implement loss functions as a class that the user supplies.\n",
    "The class should have two methods, `loss` and `negative_gradient`, which both take two arguments, `y` and `y_hat`."
   ]
  },
  {
   "cell_type": "code",
   "execution_count": 126,
   "metadata": {},
   "outputs": [],
   "source": [
    "class SquaredErrorLoss():\n",
    "    \n",
    "    def loss(y, y_hat):\n",
    "        return 0.5 * np.mean((y - y_hat)**2)\n",
    "    \n",
    "    def negative_gradient(y, raw_predictions):\n",
    "        return - (y - y_hat)"
   ]
  },
  {
   "cell_type": "code",
   "execution_count": 127,
   "metadata": {},
   "outputs": [
    {
     "data": {
      "text/plain": [
       "0.7443124023059101"
      ]
     },
     "execution_count": 127,
     "metadata": {},
     "output_type": "execute_result"
    }
   ],
   "source": [
    "y_hat = reg.predict(x)\n",
    "\n",
    "SquaredErrorLoss.loss(y, y_hat)"
   ]
  },
  {
   "cell_type": "code",
   "execution_count": 128,
   "metadata": {},
   "outputs": [
    {
     "data": {
      "text/plain": [
       "0.7443124023059101"
      ]
     },
     "execution_count": 128,
     "metadata": {},
     "output_type": "execute_result"
    }
   ],
   "source": [
    "obj = SquaredErrorLoss\n",
    "obj.loss(y, y_hat)"
   ]
  },
  {
   "cell_type": "code",
   "execution_count": 137,
   "metadata": {},
   "outputs": [],
   "source": [
    "class PowerErrorLoss():\n",
    "    \n",
    "    def __init__(self, power):\n",
    "        if power > 5:\n",
    "            raise ValueError('Really?')\n",
    "        self.power = power \n",
    "    \n",
    "    def loss(self, y, y_hat):\n",
    "        return np.mean((y - y_hat)**self.power)\n",
    "    \n",
    "    def negative_gradient(self, y, raw_predictions):\n",
    "        return -self.power * (y - y_hat)"
   ]
  },
  {
   "cell_type": "code",
   "execution_count": 138,
   "metadata": {},
   "outputs": [
    {
     "data": {
      "text/plain": [
       "1.4886248046118202"
      ]
     },
     "execution_count": 138,
     "metadata": {},
     "output_type": "execute_result"
    }
   ],
   "source": [
    "obj = PowerErrorLoss(power=2)\n",
    "obj.loss(y, y_hat)"
   ]
  },
  {
   "cell_type": "code",
   "execution_count": 139,
   "metadata": {},
   "outputs": [
    {
     "data": {
      "text/plain": [
       "array([ 2.10189204,  1.2280721 ,  1.33409859, -0.59766623, -1.03532208,\n",
       "       -0.9761456 , -1.35633058, -0.69859823, -3.94787425, -3.62012371,\n",
       "       -5.04011348, -4.58262225, -6.56848355, -5.49392743, -4.87176344,\n",
       "       -6.05833714, -4.94440938, -5.62118268, -0.54726322,  0.00852954,\n",
       "        0.3746631 ,  0.16407058,  0.72183827,  0.48473862, -0.13271894,\n",
       "        0.53223332, -0.3350794 ,  0.14624606,  0.91904035,  1.47101838,\n",
       "       -1.00917683, -0.4932956 , -1.09630969,  0.58975998, -0.91473766,\n",
       "        0.50815538, -1.39991796, -0.26538919,  0.40853954,  2.02417157,\n",
       "       -0.02113398,  0.24966214,  1.10756308, -0.93650861,  0.56324476,\n",
       "       -0.29834   , -0.80076522, -0.48674146, -1.44150587, -0.09459104])"
      ]
     },
     "execution_count": 139,
     "metadata": {},
     "output_type": "execute_result"
    }
   ],
   "source": [
    "obj.negative_gradient(y, y_hat)"
   ]
  },
  {
   "cell_type": "markdown",
   "metadata": {},
   "source": [
    "## GBM Implementation"
   ]
  },
  {
   "cell_type": "code",
   "execution_count": 160,
   "metadata": {},
   "outputs": [],
   "source": [
    "from sklearn.tree import DecisionTreeRegressor \n",
    "from scipy.optimize import minimize\n",
    "\n",
    "class GradientBoostingMachine():\n",
    "    \n",
    "    def __init__(self, objective, n_trees, learning_rate=0.1, max_depth=1):\n",
    "        self.objective=objective; self.n_trees=n_trees; \n",
    "        self.learning_rate=learning_rate; self.max_depth=max_depth;\n",
    "    \n",
    "    def fit(self, x, y):\n",
    "        loss = self.objective.loss \n",
    "        negative_gradient = self.objective.negative_gradient\n",
    "        self.trees = []\n",
    "        self.initial_prediction = self._get_initial_prediction(y, loss)\n",
    "        current_predictions = self.initial_prediction * np.ones(shape=y.shape, dtype=np.float64)\n",
    "        for _ in range(self.n_trees):\n",
    "            pseudo_residuals = negative_gradient(y, current_predictions)\n",
    "            tree = DecisionTreeRegressor(max_depth=self.max_depth)\n",
    "            tree.fit(x, pseudo_residuals)\n",
    "            self._update_terminal_nodes(tree, y, current_predictions)\n",
    "            current_predictions += self.learning_rate * tree.predict(x)\n",
    "            self.trees.append(tree)\n",
    "     \n",
    "    def _get_initial_prediction(self, y, loss):\n",
    "        fun = lambda c: loss(y, c)\n",
    "        res = minimize(fun=fun, x0=y.mean())\n",
    "        return res.x[0]\n",
    "        \n",
    "    def _update_terminal_nodes(self, tree, y, current_predictions):\n",
    "        pass\n",
    "        \n",
    "    def predict(self, x):\n",
    "        return (self.initial_prediction + \n",
    "                self.learning_rate * np.sum([tree.predict(x) for tree in self.trees], axis=0))"
   ]
  },
  {
   "cell_type": "code",
   "execution_count": 161,
   "metadata": {},
   "outputs": [],
   "source": [
    "gbm = GradientBoostingMachine(objective=PowerErrorLoss(power=2),\n",
    "                              n_trees=4\n",
    "                             )"
   ]
  },
  {
   "cell_type": "code",
   "execution_count": 162,
   "metadata": {},
   "outputs": [],
   "source": [
    "gbm.fit(x, y)"
   ]
  },
  {
   "cell_type": "code",
   "execution_count": 163,
   "metadata": {},
   "outputs": [
    {
     "data": {
      "text/plain": [
       "(3.74375430933034, 3.74375430933034)"
      ]
     },
     "execution_count": 163,
     "metadata": {},
     "output_type": "execute_result"
    }
   ],
   "source": [
    "gbm.initial_prediction, y.mean()"
   ]
  },
  {
   "cell_type": "code",
   "execution_count": 164,
   "metadata": {},
   "outputs": [
    {
     "data": {
      "text/plain": [
       "array([2.61600237, 2.61600237, 2.61600237, 2.61600237, 2.61600237,\n",
       "       2.61600237, 2.61600237, 2.61600237, 2.61600237, 2.61600237,\n",
       "       2.61600237, 2.61600237, 2.61600237, 2.61600237, 2.61600237,\n",
       "       2.61600237, 2.61600237, 2.61600237, 3.74375431, 3.74375431,\n",
       "       3.74375431, 3.74375431, 3.74375431, 3.74375431, 3.74375431,\n",
       "       3.74375431, 3.74375431, 3.74375431, 3.74375431, 3.74375431,\n",
       "       3.74375431, 3.74375431, 3.74375431, 3.74375431, 3.74375431,\n",
       "       3.74375431, 3.74375431, 3.74375431, 3.74375431, 3.74375431,\n",
       "       3.74375431, 3.74375431, 3.74375431, 3.74375431, 3.74375431,\n",
       "       3.74375431, 3.74375431, 3.74375431, 3.74375431, 3.74375431])"
      ]
     },
     "execution_count": 164,
     "metadata": {},
     "output_type": "execute_result"
    }
   ],
   "source": [
    "gbm.predict(x)"
   ]
  },
  {
   "cell_type": "code",
   "execution_count": null,
   "metadata": {},
   "outputs": [],
   "source": []
  }
 ],
 "metadata": {
  "kernelspec": {
   "display_name": "Python 3",
   "language": "python",
   "name": "python3"
  },
  "language_info": {
   "codemirror_mode": {
    "name": "ipython",
    "version": 3
   },
   "file_extension": ".py",
   "mimetype": "text/x-python",
   "name": "python",
   "nbconvert_exporter": "python",
   "pygments_lexer": "ipython3",
   "version": "3.8.3"
  }
 },
 "nbformat": 4,
 "nbformat_minor": 4
}
