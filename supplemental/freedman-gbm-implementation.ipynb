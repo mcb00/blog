{
 "cells": [
  {
   "cell_type": "markdown",
   "metadata": {},
   "source": [
    "# Implementation of Freedman's GBM with Custom Objective"
   ]
  },
  {
   "cell_type": "markdown",
   "metadata": {},
   "source": [
    "In this notebook, I figure out the hacks needed to implement Freedman's original GBM algorithm using sklearn DecisionTreeRegressor as the weak learner and scipy minimize as the argmin method.\n",
    "Basically we just need to be able to modify the tree predictions to predict the best prediction value according to the argmin of the loss function.\n",
    "This page on the [decision tree structure](https://scikit-learn.org/stable/auto_examples/tree/plot_unveil_tree_structure.html)  in the sklearn documentation is super helpful."
   ]
  },
  {
   "cell_type": "markdown",
   "metadata": {},
   "source": [
    "## sklearn decision trees"
   ]
  },
  {
   "cell_type": "code",
   "execution_count": 54,
   "metadata": {},
   "outputs": [],
   "source": [
    "import numpy as np\n",
    "import pandas as pd\n",
    "import matplotlib.pyplot as plt \n",
    "%matplotlib inline\n",
    "\n",
    "from sklearn.tree import DecisionTreeRegressor\n",
    "from sklearn.tree import plot_tree"
   ]
  },
  {
   "cell_type": "code",
   "execution_count": 55,
   "metadata": {},
   "outputs": [],
   "source": [
    "rng = np.random.default_rng()\n",
    "x = np.linspace(0, 10, 50)\n",
    "y = np.where(x < 5, x, 5) + rng.normal(0, 0.4, size=x.shape)\n",
    "x = x.reshape(-1,1)"
   ]
  },
  {
   "cell_type": "code",
   "execution_count": 56,
   "metadata": {},
   "outputs": [
    {
     "data": {
      "text/plain": [
       "[<matplotlib.lines.Line2D at 0x7faa162f33d0>]"
      ]
     },
     "execution_count": 56,
     "metadata": {},
     "output_type": "execute_result"
    },
    {
     "data": {
      "image/png": "[encoded data removed]",
      "text/plain": [
       "<Figure size 432x288 with 1 Axes>"
      ]
     },
     "metadata": {
      "needs_background": "light"
     },
     "output_type": "display_data"
    }
   ],
   "source": [
    "plt.plot(x, y, 'o')"
   ]
  },
  {
   "cell_type": "code",
   "execution_count": 57,
   "metadata": {},
   "outputs": [],
   "source": [
    "reg = DecisionTreeRegressor(max_depth=2)\n",
    "reg.fit(x, y)\n",
    "y_hat = reg.predict(x)"
   ]
  },
  {
   "cell_type": "code",
   "execution_count": 58,
   "metadata": {},
   "outputs": [
    {
     "data": {
      "text/html": [
       "<div>\n",
       "<style scoped>\n",
       "    .dataframe tbody tr th:only-of-type {\n",
       "        vertical-align: middle;\n",
       "    }\n",
       "\n",
       "    .dataframe tbody tr th {\n",
       "        vertical-align: top;\n",
       "    }\n",
       "\n",
       "    .dataframe thead th {\n",
       "        text-align: right;\n",
       "    }\n",
       "</style>\n",
       "<table border=\"1\" class=\"dataframe\">\n",
       "  <thead>\n",
       "    <tr style=\"text-align: right;\">\n",
       "      <th></th>\n",
       "      <th>children_left</th>\n",
       "      <th>children_right</th>\n",
       "      <th>feature</th>\n",
       "      <th>threshold</th>\n",
       "      <th>n_node_samples</th>\n",
       "      <th>impurity</th>\n",
       "    </tr>\n",
       "  </thead>\n",
       "  <tbody>\n",
       "    <tr>\n",
       "      <th>0</th>\n",
       "      <td>1</td>\n",
       "      <td>4</td>\n",
       "      <td>0</td>\n",
       "      <td>2.959184</td>\n",
       "      <td>50</td>\n",
       "      <td>2.849011</td>\n",
       "    </tr>\n",
       "    <tr>\n",
       "      <th>1</th>\n",
       "      <td>2</td>\n",
       "      <td>3</td>\n",
       "      <td>0</td>\n",
       "      <td>0.918367</td>\n",
       "      <td>15</td>\n",
       "      <td>0.950057</td>\n",
       "    </tr>\n",
       "    <tr>\n",
       "      <th>2</th>\n",
       "      <td>-1</td>\n",
       "      <td>-1</td>\n",
       "      <td>-2</td>\n",
       "      <td>-2.000000</td>\n",
       "      <td>5</td>\n",
       "      <td>0.296067</td>\n",
       "    </tr>\n",
       "    <tr>\n",
       "      <th>3</th>\n",
       "      <td>-1</td>\n",
       "      <td>-1</td>\n",
       "      <td>-2</td>\n",
       "      <td>-2.000000</td>\n",
       "      <td>10</td>\n",
       "      <td>0.286922</td>\n",
       "    </tr>\n",
       "    <tr>\n",
       "      <th>4</th>\n",
       "      <td>5</td>\n",
       "      <td>6</td>\n",
       "      <td>0</td>\n",
       "      <td>3.775510</td>\n",
       "      <td>35</td>\n",
       "      <td>0.414710</td>\n",
       "    </tr>\n",
       "    <tr>\n",
       "      <th>5</th>\n",
       "      <td>-1</td>\n",
       "      <td>-1</td>\n",
       "      <td>-2</td>\n",
       "      <td>-2.000000</td>\n",
       "      <td>4</td>\n",
       "      <td>0.093126</td>\n",
       "    </tr>\n",
       "    <tr>\n",
       "      <th>6</th>\n",
       "      <td>-1</td>\n",
       "      <td>-1</td>\n",
       "      <td>-2</td>\n",
       "      <td>-2.000000</td>\n",
       "      <td>31</td>\n",
       "      <td>0.193573</td>\n",
       "    </tr>\n",
       "  </tbody>\n",
       "</table>\n",
       "</div>"
      ],
      "text/plain": [
       "   children_left  children_right  feature  threshold  n_node_samples  impurity\n",
       "0              1               4        0   2.959184              50  2.849011\n",
       "1              2               3        0   0.918367              15  0.950057\n",
       "2             -1              -1       -2  -2.000000               5  0.296067\n",
       "3             -1              -1       -2  -2.000000              10  0.286922\n",
       "4              5               6        0   3.775510              35  0.414710\n",
       "5             -1              -1       -2  -2.000000               4  0.093126\n",
       "6             -1              -1       -2  -2.000000              31  0.193573"
      ]
     },
     "execution_count": 58,
     "metadata": {},
     "output_type": "execute_result"
    }
   ],
   "source": [
    "# parallel arrays that give info on the nodes\n",
    "pd.DataFrame({\n",
    "    'children_left': reg.tree_.children_left\n",
    "    , 'children_right': reg.tree_.children_right\n",
    "    , 'feature': reg.tree_.feature \n",
    "    , 'threshold': reg.tree_.threshold\n",
    "    , 'n_node_samples': reg.tree_.n_node_samples \n",
    "    , 'impurity': reg.tree_.impurity\n",
    "})"
   ]
  },
  {
   "cell_type": "markdown",
   "metadata": {},
   "source": [
    "The index corresponds to the nodes in the tree.\n",
    "`children_left` and `children_right` give the index of the left and right children of the given node. \n",
    "They are set to -1 on the terminal nodes.\n",
    "Looks like the tree is indexed in a depth-first order."
   ]
  },
  {
   "cell_type": "code",
   "execution_count": 59,
   "metadata": {
    "scrolled": true
   },
   "outputs": [
    {
     "data": {
      "image/png": "[encoded data removed]",
      "text/plain": [
       "<Figure size 432x288 with 1 Axes>"
      ]
     },
     "metadata": {
      "needs_background": "light"
     },
     "output_type": "display_data"
    }
   ],
   "source": [
    "plot_tree(reg);"
   ]
  },
  {
   "cell_type": "code",
   "execution_count": 60,
   "metadata": {},
   "outputs": [
    {
     "data": {
      "text/plain": [
       "array([2, 2, 2, 2, 2, 3, 3, 3, 3, 3, 3, 3, 3, 3, 3, 5, 5, 5, 5, 6, 6, 6,\n",
       "       6, 6, 6, 6, 6, 6, 6, 6, 6, 6, 6, 6, 6, 6, 6, 6, 6, 6, 6, 6, 6, 6,\n",
       "       6, 6, 6, 6, 6, 6])"
      ]
     },
     "execution_count": 60,
     "metadata": {},
     "output_type": "execute_result"
    }
   ],
   "source": [
    "# find the terminal nodes that each observation lands in.\n",
    "reg.apply(x)"
   ]
  },
  {
   "cell_type": "code",
   "execution_count": 61,
   "metadata": {},
   "outputs": [
    {
     "data": {
      "text/plain": [
       "array([2, 2, 2, 2, 2, 3, 3, 3, 3, 3, 3, 3, 3, 3, 3, 5, 5, 5, 5, 6, 6, 6,\n",
       "       6, 6, 6, 6, 6, 6, 6, 6, 6, 6, 6, 6, 6, 6, 6, 6, 6, 6, 6, 6, 6, 6,\n",
       "       6, 6, 6, 6, 6, 6])"
      ]
     },
     "execution_count": 61,
     "metadata": {},
     "output_type": "execute_result"
    }
   ],
   "source": [
    "# find the terminal nodes that each observation lands in.\n",
    "# it works on the tree_ object too\n",
    "reg.tree_.apply(x.astype(np.float32))"
   ]
  },
  {
   "cell_type": "code",
   "execution_count": 62,
   "metadata": {},
   "outputs": [
    {
     "data": {
      "text/plain": [
       "array([2, 3, 5, 6])"
      ]
     },
     "execution_count": 62,
     "metadata": {},
     "output_type": "execute_result"
    }
   ],
   "source": [
    "# terminal node id's\n",
    "np.nonzero(reg.tree_.children_left == reg.tree_.children_right)[0]"
   ]
  },
  {
   "cell_type": "code",
   "execution_count": 63,
   "metadata": {},
   "outputs": [
    {
     "data": {
      "text/plain": [
       "array([[[3.74678515]],\n",
       "\n",
       "       [[1.44346284]],\n",
       "\n",
       "       [[0.29447461]],\n",
       "\n",
       "       [[2.01795695]],\n",
       "\n",
       "       [[4.73392329]],\n",
       "\n",
       "       [[3.39124688]],\n",
       "\n",
       "       [[4.90717185]]])"
      ]
     },
     "execution_count": 63,
     "metadata": {},
     "output_type": "execute_result"
    }
   ],
   "source": [
    "# the prediction values for each node (including non terminal ones)\n",
    "reg.tree_.value"
   ]
  },
  {
   "cell_type": "markdown",
   "metadata": {},
   "source": [
    "Not sure why `value` has two other dimensions."
   ]
  },
  {
   "cell_type": "code",
   "execution_count": 64,
   "metadata": {},
   "outputs": [
    {
     "data": {
      "text/plain": [
       "array([3.74678515, 1.44346284, 0.29447461, 2.01795695, 4.73392329,\n",
       "       3.39124688, 4.90717185])"
      ]
     },
     "execution_count": 64,
     "metadata": {},
     "output_type": "execute_result"
    }
   ],
   "source": [
    "# the prediction values for each node (including non terminal ones)\n",
    "reg.tree_.value[:, 0, 0]"
   ]
  },
  {
   "cell_type": "code",
   "execution_count": 65,
   "metadata": {},
   "outputs": [
    {
     "data": {
      "text/plain": [
       "array([0.29447461, 0.29447461, 0.29447461, 0.29447461, 0.29447461,\n",
       "       2.01795695, 2.01795695, 2.01795695, 2.01795695, 2.01795695,\n",
       "       2.01795695, 2.01795695, 2.01795695, 2.01795695, 2.01795695,\n",
       "       3.39124688, 3.39124688, 3.39124688, 3.39124688, 4.90717185,\n",
       "       4.90717185, 4.90717185, 4.90717185, 4.90717185, 4.90717185,\n",
       "       4.90717185, 4.90717185, 4.90717185, 4.90717185, 4.90717185,\n",
       "       4.90717185, 4.90717185, 4.90717185, 4.90717185, 4.90717185,\n",
       "       4.90717185, 4.90717185, 4.90717185, 4.90717185, 4.90717185,\n",
       "       4.90717185, 4.90717185, 4.90717185, 4.90717185, 4.90717185,\n",
       "       4.90717185, 4.90717185, 4.90717185, 4.90717185, 4.90717185])"
      ]
     },
     "execution_count": 65,
     "metadata": {},
     "output_type": "execute_result"
    }
   ],
   "source": [
    "# manually get predicted values for given feature vector observations\n",
    "reg.tree_.value[:, 0, 0][reg.apply(x)]"
   ]
  },
  {
   "cell_type": "code",
   "execution_count": 66,
   "metadata": {},
   "outputs": [],
   "source": [
    "# modifying one of the terminal node prediction values\n",
    "reg.tree_.value[3, 0, 0] = 0.0"
   ]
  },
  {
   "cell_type": "code",
   "execution_count": 67,
   "metadata": {
    "scrolled": true
   },
   "outputs": [
    {
     "data": {
      "text/plain": [
       "array([0.29447461, 0.29447461, 0.29447461, 0.29447461, 0.29447461,\n",
       "       0.        , 0.        , 0.        , 0.        , 0.        ,\n",
       "       0.        , 0.        , 0.        , 0.        , 0.        ,\n",
       "       3.39124688, 3.39124688, 3.39124688, 3.39124688, 4.90717185,\n",
       "       4.90717185, 4.90717185, 4.90717185, 4.90717185, 4.90717185,\n",
       "       4.90717185, 4.90717185, 4.90717185, 4.90717185, 4.90717185,\n",
       "       4.90717185, 4.90717185, 4.90717185, 4.90717185, 4.90717185,\n",
       "       4.90717185, 4.90717185, 4.90717185, 4.90717185, 4.90717185,\n",
       "       4.90717185, 4.90717185, 4.90717185, 4.90717185, 4.90717185,\n",
       "       4.90717185, 4.90717185, 4.90717185, 4.90717185, 4.90717185])"
      ]
     },
     "execution_count": 67,
     "metadata": {},
     "output_type": "execute_result"
    }
   ],
   "source": [
    "#built in predict method\n",
    "reg.predict(x)"
   ]
  },
  {
   "cell_type": "markdown",
   "metadata": {},
   "source": [
    "## scipy minimize"
   ]
  },
  {
   "cell_type": "code",
   "execution_count": 68,
   "metadata": {},
   "outputs": [],
   "source": [
    "from scipy.optimize import minimize"
   ]
  },
  {
   "cell_type": "code",
   "execution_count": 69,
   "metadata": {
    "scrolled": true
   },
   "outputs": [
    {
     "data": {
      "text/plain": [
       "3.999999987147814"
      ]
     },
     "execution_count": 69,
     "metadata": {},
     "output_type": "execute_result"
    }
   ],
   "source": [
    "my_fun = lambda t: (t - 4)**2 + 3\n",
    "t0 = 0\n",
    "res = minimize(my_fun, t0)\n",
    "res.x[0]"
   ]
  },
  {
   "cell_type": "markdown",
   "metadata": {},
   "source": [
    "That wasn't so bad."
   ]
  },
  {
   "cell_type": "markdown",
   "metadata": {},
   "source": [
    "## Loss Function Classes"
   ]
  },
  {
   "cell_type": "markdown",
   "metadata": {},
   "source": [
    "I think we'll implement loss functions as a class that the user supplies.\n",
    "The class should have two methods, `loss` and `negative_gradient`, which both take two arguments, `y` and `y_hat`.\n",
    "The `loss` method should return a scalar, while the `negative_gradient` method should return an array the same size as `y` and `y_hat`."
   ]
  },
  {
   "cell_type": "code",
   "execution_count": 70,
   "metadata": {},
   "outputs": [],
   "source": [
    "class SquaredErrorLoss():\n",
    "    \n",
    "    def loss(self, y, y_hat):\n",
    "        return np.mean((y - y_hat)**2)\n",
    "    \n",
    "    def negative_gradient(self, y, y_hat):\n",
    "        return y - y_hat"
   ]
  },
  {
   "cell_type": "code",
   "execution_count": 71,
   "metadata": {},
   "outputs": [],
   "source": [
    "# make an instance\n",
    "obj = SquaredErrorLoss()"
   ]
  },
  {
   "cell_type": "code",
   "execution_count": 72,
   "metadata": {},
   "outputs": [
    {
     "data": {
      "text/plain": [
       "0.21445635962208243"
      ]
     },
     "execution_count": 72,
     "metadata": {},
     "output_type": "execute_result"
    }
   ],
   "source": [
    "# loss method should return a number\n",
    "obj.loss(y, y_hat)"
   ]
  },
  {
   "cell_type": "code",
   "execution_count": 73,
   "metadata": {},
   "outputs": [
    {
     "data": {
      "text/plain": [
       "array([ 0.12820511, -0.47602494,  0.99885698, -0.44311625, -0.20792091,\n",
       "       -0.53908927, -0.52870239, -0.93625842,  0.52611945, -0.26261815,\n",
       "       -0.07568407,  0.82995373,  0.48892624,  0.34728354,  0.15006935,\n",
       "       -0.23822519,  0.36412946, -0.35895758,  0.2330533 , -0.61635731,\n",
       "        0.12077706, -1.18812846,  1.14539973, -0.65160682, -0.2155968 ,\n",
       "        0.02276012, -0.14019121,  0.09477109,  0.00239572, -0.09762186,\n",
       "        0.1669505 ,  0.53049647,  0.00492825, -0.25137771, -0.45885752,\n",
       "        0.18783254, -0.39167631,  0.50347454,  0.37940004,  0.57987462,\n",
       "        0.43126587,  0.0585843 , -0.05168218,  0.10533927, -0.09567262,\n",
       "        0.57327773,  0.02372125, -0.27711792,  0.0037559 , -0.49911829])"
      ]
     },
     "execution_count": 73,
     "metadata": {},
     "output_type": "execute_result"
    }
   ],
   "source": [
    "# negative_gradient method should return an array, same shape as y and y_hat\n",
    "obj.negative_gradient(y, y_hat)"
   ]
  },
  {
   "cell_type": "markdown",
   "metadata": {},
   "source": [
    "## GBM Implementation"
   ]
  },
  {
   "cell_type": "code",
   "execution_count": 74,
   "metadata": {},
   "outputs": [],
   "source": [
    "import numpy as np\n",
    "from sklearn.tree import DecisionTreeRegressor \n",
    "from scipy.optimize import minimize\n",
    "\n",
    "class GradientBoostingMachine():\n",
    "    '''Gradient Boosting Machine supporting any user-supplied loss function.\n",
    "    \n",
    "    Parameters\n",
    "    ----------\n",
    "    n_trees : int\n",
    "        number of boosting rounds\n",
    "        \n",
    "    learning_rate : float\n",
    "        learning rate hyperparameter\n",
    "        \n",
    "    max_depth : int\n",
    "        maximum tree depth\n",
    "    '''\n",
    "    \n",
    "    def __init__(self, n_trees, learning_rate=0.1, max_depth=1):\n",
    "        self.n_trees=n_trees; \n",
    "        self.learning_rate=learning_rate\n",
    "        self.max_depth=max_depth;\n",
    "    \n",
    "    def fit(self, X, y, objective):\n",
    "        '''Fit the GBM using the specified loss function.\n",
    "        \n",
    "        Parameters\n",
    "        ----------\n",
    "        X : ndarray of size (number observations, number features)\n",
    "            design matrix\n",
    "            \n",
    "        y : ndarray of size (number observations,)\n",
    "            target values\n",
    "            \n",
    "        objective : loss function class instance\n",
    "            Class specifying the loss function for training.\n",
    "            Should implement two methods:\n",
    "                loss(labels: ndarray, predictions: ndarray) -> float\n",
    "                negative_gradient(labels: ndarray, predictions: ndarray) -> ndarray\n",
    "        '''\n",
    "        \n",
    "        self.trees = []\n",
    "        self.base_prediction = self._get_optimal_base_value(y, objective.loss)\n",
    "        current_predictions = self.base_prediction * np.ones(shape=y.shape)\n",
    "        for _ in range(self.n_trees):\n",
    "            pseudo_residuals = objective.negative_gradient(y, current_predictions)\n",
    "            tree = DecisionTreeRegressor(max_depth=self.max_depth)\n",
    "            tree.fit(X, pseudo_residuals)\n",
    "            self._update_terminal_nodes(tree, X, y, current_predictions, objective.loss)\n",
    "            current_predictions += self.learning_rate * tree.predict(X)\n",
    "            self.trees.append(tree)\n",
    "     \n",
    "    def _get_optimal_base_value(self, y, loss):\n",
    "        '''Find the optimal initial prediction for the base model.'''\n",
    "        fun = lambda c: loss(y, c)\n",
    "        c0 = y.mean()\n",
    "        return minimize(fun=fun, x0=c0).x[0]\n",
    "        \n",
    "    def _update_terminal_nodes(self, tree, X, y, current_predictions, loss):\n",
    "        '''Update the tree's predictions according to the loss function.'''\n",
    "        # terminal node id's\n",
    "        leaf_nodes = np.nonzero(tree.tree_.children_left == -1)[0]\n",
    "        # compute leaf for each sample in ``X``.\n",
    "        leaf_node_for_each_sample = tree.apply(X)\n",
    "        for leaf in leaf_nodes:\n",
    "            samples_in_this_leaf = np.where(leaf_node_for_each_sample == leaf)[0]\n",
    "            y_in_leaf = y.take(samples_in_this_leaf, axis=0)\n",
    "            preds_in_leaf = current_predictions.take(samples_in_this_leaf, axis=0)\n",
    "            val = self._get_optimal_leaf_value(y_in_leaf, \n",
    "                                               preds_in_leaf,\n",
    "                                               loss)\n",
    "            tree.tree_.value[leaf, 0, 0] = val\n",
    "            \n",
    "    def _get_optimal_leaf_value(self, y, current_predictions, loss):\n",
    "        '''Find the optimal prediction value for a given leaf.'''\n",
    "        fun = lambda c: loss(y, current_predictions + c)\n",
    "        c0 = y.mean()\n",
    "        return minimize(fun=fun, x0=c0).x[0]\n",
    "          \n",
    "    def predict(self, X):\n",
    "        '''Generate predictions for the given input data.'''\n",
    "        return (self.base_prediction \n",
    "                + self.learning_rate \n",
    "                * np.sum([tree.predict(X) for tree in self.trees], axis=0))"
   ]
  },
  {
   "cell_type": "code",
   "execution_count": null,
   "metadata": {},
   "outputs": [],
   "source": []
  },
  {
   "cell_type": "markdown",
   "metadata": {},
   "source": [
    "### Mean Squared Error"
   ]
  },
  {
   "cell_type": "code",
   "execution_count": 75,
   "metadata": {},
   "outputs": [],
   "source": [
    "rng = np.random.default_rng()\n",
    "x = np.linspace(0, 10, 500)\n",
    "y = np.where(x < 5, x, 5) + rng.normal(0, 0.4, size=x.shape)\n",
    "x = x.reshape(-1,1)"
   ]
  },
  {
   "cell_type": "code",
   "execution_count": 76,
   "metadata": {},
   "outputs": [],
   "source": [
    "class SquaredErrorLoss():\n",
    "    \n",
    "    def loss(self, y, y_hat):\n",
    "        return np.mean((y - y_hat)**2)\n",
    "    \n",
    "    def negative_gradient(self, y, y_hat):\n",
    "        return y - y_hat"
   ]
  },
  {
   "cell_type": "code",
   "execution_count": 77,
   "metadata": {
    "scrolled": true
   },
   "outputs": [],
   "source": [
    "gbm = GradientBoostingMachine(n_trees=10,\n",
    "                              learning_rate=0.5)\n",
    "gbm.fit(x, y, SquaredErrorLoss())"
   ]
  },
  {
   "cell_type": "code",
   "execution_count": 78,
   "metadata": {
    "scrolled": false
   },
   "outputs": [
    {
     "data": {
      "text/plain": [
       "Text(0.5, 1.0, 'model predicting mean or y | x')"
      ]
     },
     "execution_count": 78,
     "metadata": {},
     "output_type": "execute_result"
    },
    {
     "data": {
      "image/png": "[encoded data removed]",
      "text/plain": [
       "<Figure size 432x288 with 1 Axes>"
      ]
     },
     "metadata": {
      "needs_background": "light"
     },
     "output_type": "display_data"
    }
   ],
   "source": [
    "# fig, ax = plt.subplot()\n",
    "plt.plot(x.ravel(), y, 'o', label='data')\n",
    "plt.plot(x.ravel(), gbm.predict(x), '-k', label='model')\n",
    "plt.legend()\n",
    "plt.xlabel('x')\n",
    "plt.ylabel('y')\n",
    "plt.title('model predicting mean or y | x')"
   ]
  },
  {
   "cell_type": "code",
   "execution_count": null,
   "metadata": {},
   "outputs": [],
   "source": []
  },
  {
   "cell_type": "markdown",
   "metadata": {},
   "source": [
    "### Mean Absolute Error"
   ]
  },
  {
   "cell_type": "code",
   "execution_count": 79,
   "metadata": {},
   "outputs": [],
   "source": [
    "rng = np.random.default_rng()\n",
    "x = np.linspace(0, 10, 500)\n",
    "y = np.where(x < 5, x, 5) + rng.normal(0, 0.4, size=x.shape)\n",
    "x = x.reshape(-1,1)"
   ]
  },
  {
   "cell_type": "code",
   "execution_count": 80,
   "metadata": {},
   "outputs": [],
   "source": [
    "class AbsoluteErrorLoss():\n",
    "    \n",
    "    def loss(self, y, y_hat):\n",
    "        return np.mean(np.abs(y - y_hat))\n",
    "    \n",
    "    def negative_gradient(self, y, y_hat):\n",
    "        return np.sign(y - y_hat)"
   ]
  },
  {
   "cell_type": "code",
   "execution_count": 81,
   "metadata": {},
   "outputs": [],
   "source": [
    "gbm = GradientBoostingMachine(n_trees=10,\n",
    "                              learning_rate=0.5)\n",
    "gbm.fit(x, y, AbsoluteErrorLoss())"
   ]
  },
  {
   "cell_type": "code",
   "execution_count": 82,
   "metadata": {
    "scrolled": false
   },
   "outputs": [
    {
     "data": {
      "text/plain": [
       "Text(0.5, 1.0, 'model predicting median of y | x')"
      ]
     },
     "execution_count": 82,
     "metadata": {},
     "output_type": "execute_result"
    },
    {
     "data": {
      "image/png": "[encoded data removed]",
      "text/plain": [
       "<Figure size 432x288 with 1 Axes>"
      ]
     },
     "metadata": {
      "needs_background": "light"
     },
     "output_type": "display_data"
    }
   ],
   "source": [
    "# fig, ax = plt.subplot()\n",
    "plt.plot(x.ravel(), y, 'o', label='data')\n",
    "plt.plot(x.ravel(), gbm.predict(x), '-k', label='model')\n",
    "plt.legend()\n",
    "plt.xlabel('x')\n",
    "plt.ylabel('y')\n",
    "plt.title('model predicting median of y | x')"
   ]
  },
  {
   "cell_type": "code",
   "execution_count": null,
   "metadata": {},
   "outputs": [],
   "source": []
  },
  {
   "cell_type": "markdown",
   "metadata": {},
   "source": [
    "### Quantile Loss"
   ]
  },
  {
   "cell_type": "code",
   "execution_count": 83,
   "metadata": {},
   "outputs": [],
   "source": [
    "rng = np.random.default_rng()\n",
    "x = np.linspace(0, 10, 500)\n",
    "# y = np.where(x < 5, x, 5) + rng.uniform(-2, 2, size=x.shape)\n",
    "y = np.where(x < 5, x, 5) + rng.normal(0, 1, size=x.shape)\n",
    "x = x.reshape(-1,1)"
   ]
  },
  {
   "cell_type": "code",
   "execution_count": 84,
   "metadata": {},
   "outputs": [],
   "source": [
    "class QuantileLoss():\n",
    "    \n",
    "    def __init__(self, alpha):\n",
    "        if alpha < 0 or alpha >1:\n",
    "            raise ValueError('alpha must be between 0 and 1')\n",
    "        self.alpha = alpha\n",
    "        \n",
    "    def loss(self, y, y_hat):\n",
    "        e = y - y_hat\n",
    "        return np.mean(np.where(e > 0, self.alpha * e, (self.alpha - 1) * e))\n",
    "    \n",
    "    def negative_gradient(self, y, y_hat):\n",
    "        e = y - y_hat \n",
    "        return np.where(e > 0, self.alpha, self.alpha - 1)"
   ]
  },
  {
   "cell_type": "code",
   "execution_count": 85,
   "metadata": {},
   "outputs": [],
   "source": [
    "gbm = GradientBoostingMachine(n_trees=10,\n",
    "                              learning_rate=0.5)\n",
    "gbm.fit(x, y, QuantileLoss(alpha=0.9))"
   ]
  },
  {
   "cell_type": "code",
   "execution_count": 86,
   "metadata": {
    "scrolled": true
   },
   "outputs": [
    {
     "data": {
      "text/plain": [
       "Text(0.5, 1.0, 'model predicting 0.9 quantile of y | x')"
      ]
     },
     "execution_count": 86,
     "metadata": {},
     "output_type": "execute_result"
    },
    {
     "data": {
      "image/png": "[encoded data removed]",
      "text/plain": [
       "<Figure size 432x288 with 1 Axes>"
      ]
     },
     "metadata": {
      "needs_background": "light"
     },
     "output_type": "display_data"
    }
   ],
   "source": [
    "plt.plot(x, y, 'o', label='data')\n",
    "plt.plot(x, gbm.predict(x), 'k-', label='model')\n",
    "plt.legend()\n",
    "plt.xlabel('x')\n",
    "plt.ylabel('y')\n",
    "plt.title('model predicting 0.9 quantile of y | x')"
   ]
  },
  {
   "cell_type": "code",
   "execution_count": null,
   "metadata": {},
   "outputs": [],
   "source": []
  },
  {
   "cell_type": "markdown",
   "metadata": {},
   "source": [
    "### Binary Cross Entropy"
   ]
  },
  {
   "cell_type": "code",
   "execution_count": 87,
   "metadata": {},
   "outputs": [],
   "source": [
    "rng = np.random.default_rng()\n",
    "x = np.linspace(-3, 3, 500)\n",
    "expit = lambda t: np.exp(t) / (1 + np.exp(t))\n",
    "p = expit(x)\n",
    "y = rng.binomial(1, p, size=p.shape)\n",
    "x = x.reshape(-1,1)"
   ]
  },
  {
   "cell_type": "code",
   "execution_count": 88,
   "metadata": {},
   "outputs": [],
   "source": [
    "class BinaryCrossEntropyLoss():\n",
    "    # in these methods, y_hat gives the log odds ratio\n",
    "    \n",
    "    def __init__(self):\n",
    "        self.expit = lambda t: np.exp(t) / (1 + np.exp(t))\n",
    "    \n",
    "    def loss(self, y, y_hat):\n",
    "        p = self.expit(y_hat)\n",
    "        return -np.mean(y * np.log(p) + (1 - y) * np.log(1 - p))\n",
    "    \n",
    "    def negative_gradient(self, y, y_hat):\n",
    "        p = self.expit(y_hat)\n",
    "        return y / p - (1 - y) / (1 - p)"
   ]
  },
  {
   "cell_type": "code",
   "execution_count": 89,
   "metadata": {},
   "outputs": [],
   "source": [
    "gbm = GradientBoostingMachine(n_trees=10,\n",
    "                              learning_rate=0.5)\n",
    "gbm.fit(x, y, BinaryCrossEntropyLoss())"
   ]
  },
  {
   "cell_type": "code",
   "execution_count": 90,
   "metadata": {
    "scrolled": false
   },
   "outputs": [
    {
     "data": {
      "text/plain": [
       "<matplotlib.legend.Legend at 0x7faa16598d00>"
      ]
     },
     "execution_count": 90,
     "metadata": {},
     "output_type": "execute_result"
    },
    {
     "data": {
      "image/png": "[encoded data removed]",
      "text/plain": [
       "<Figure size 432x288 with 1 Axes>"
      ]
     },
     "metadata": {
      "needs_background": "light"
     },
     "output_type": "display_data"
    }
   ],
   "source": [
    "plt.plot(x, y, 'o', label='data')\n",
    "plt.plot(x, p, '-r', label='P(y=1|x)')\n",
    "plt.plot(x, expit(gbm.predict(x)), '-k', label='model')\n",
    "plt.title('model predicting P(y = 1 | x)')\n",
    "plt.xlabel('x')\n",
    "plt.ylabel('y')\n",
    "plt.legend()"
   ]
  },
  {
   "cell_type": "code",
   "execution_count": null,
   "metadata": {},
   "outputs": [],
   "source": []
  }
 ],
 "metadata": {
  "kernelspec": {
   "display_name": "Python 3",
   "language": "python",
   "name": "python3"
  },
  "language_info": {
   "codemirror_mode": {
    "name": "ipython",
    "version": 3
   },
   "file_extension": ".py",
   "mimetype": "text/x-python",
   "name": "python",
   "nbconvert_exporter": "python",
   "pygments_lexer": "ipython3",
   "version": "3.8.3"
  }
 },
 "nbformat": 4,
 "nbformat_minor": 4
}
